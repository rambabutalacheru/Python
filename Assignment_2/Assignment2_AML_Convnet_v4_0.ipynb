{
  "nbformat": 4,
  "nbformat_minor": 0,
  "metadata": {
    "accelerator": "GPU",
    "colab": {
      "name": "Assignment2_AML_Convnet_v4.0",
      "provenance": [],
      "collapsed_sections": [],
      "machine_shape": "hm",
      "include_colab_link": true
    },
    "kernelspec": {
      "display_name": "Python 3",
      "language": "python",
      "name": "python3"
    },
    "language_info": {
      "codemirror_mode": {
        "name": "ipython",
        "version": 3
      },
      "file_extension": ".py",
      "mimetype": "text/x-python",
      "name": "python",
      "nbconvert_exporter": "python",
      "pygments_lexer": "ipython3",
      "version": "3.7.0"
    }
  },
  "cells": [
    {
      "cell_type": "markdown",
      "metadata": {
        "id": "view-in-github",
        "colab_type": "text"
      },
      "source": [
        "<a href=\"https://colab.research.google.com/github/rambabutalacheru/Python/blob/main/Assignment_2/Assignment2_AML_Convnet_v4_0.ipynb\" target=\"_parent\"><img src=\"https://colab.research.google.com/assets/colab-badge.svg\" alt=\"Open In Colab\"/></a>"
      ]
    },
    {
      "cell_type": "markdown",
      "metadata": {
        "id": "M_w9GJQWLJf0"
      },
      "source": [
        "##**Assignment 2 - Deep learning for computer vision**"
      ]
    },
    {
      "cell_type": "markdown",
      "metadata": {
        "id": "QutUglegLJf8"
      },
      "source": [
        "## “Deep learning for computer vision,” convents can be used successfully to classify images. Specifically, consider the Cats & Dogs example. There were two broad approaches to classifying Cats & Dogs using convnets: Training a network from scratch, versus using a pretrained convnet. While small datasets can lead to overfitting, thus making training a network for prediction more difficult, you also saw several techniques to reduce overfitting, and these include data augmentation and regularization.\n",
        "## In this assignment, you will examine the relationship between training samples and the choice of training your model from scratch, versus using a pretrained convnet."
      ]
    },
    {
      "cell_type": "markdown",
      "metadata": {
        "id": "iBiW9ZHHLJf9"
      },
      "source": [
        "### Downloading the data"
      ]
    },
    {
      "cell_type": "code",
      "metadata": {
        "colab": {
          "resources": {
            "http://localhost:8080/nbextensions/google.colab/files.js": {
              "data": "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",
              "ok": true,
              "headers": [
                [
                  "content-type",
                  "application/javascript"
                ]
              ],
              "status": 200,
              "status_text": ""
            }
          },
          "base_uri": "https://localhost:8080/",
          "height": 91
        },
        "id": "viYjmM2HLJf9",
        "outputId": "0c535060-3908-4a5a-f3c0-ec70194fc018"
      },
      "source": [
        "from google.colab import files\n",
        "files.upload()"
      ],
      "execution_count": 1,
      "outputs": [
        {
          "output_type": "display_data",
          "data": {
            "text/plain": [
              "<IPython.core.display.HTML object>"
            ],
            "text/html": [
              "\n",
              "     <input type=\"file\" id=\"files-03cb2e03-6c7f-424d-96a8-419af552b970\" name=\"files[]\" multiple disabled\n",
              "        style=\"border:none\" />\n",
              "     <output id=\"result-03cb2e03-6c7f-424d-96a8-419af552b970\">\n",
              "      Upload widget is only available when the cell has been executed in the\n",
              "      current browser session. Please rerun this cell to enable.\n",
              "      </output>\n",
              "      <script src=\"/nbextensions/google.colab/files.js\"></script> "
            ]
          },
          "metadata": {}
        },
        {
          "output_type": "stream",
          "name": "stdout",
          "text": [
            "Saving kaggle.json to kaggle.json\n"
          ]
        },
        {
          "output_type": "execute_result",
          "data": {
            "text/plain": [
              "{'kaggle.json': b'{\"username\":\"rambabutalacheru\",\"key\":\"57ebc80f2968b35428700b000a3ad000\"}'}"
            ]
          },
          "metadata": {},
          "execution_count": 1
        }
      ]
    },
    {
      "cell_type": "code",
      "metadata": {
        "id": "bnd8M_zRLJf9"
      },
      "source": [
        "!mkdir ~/.kaggle\n",
        "!cp kaggle.json ~/.kaggle/\n",
        "!chmod 600 ~/.kaggle/kaggle.json"
      ],
      "execution_count": 2,
      "outputs": []
    },
    {
      "cell_type": "code",
      "metadata": {
        "colab": {
          "base_uri": "https://localhost:8080/"
        },
        "id": "606RcoSyLJf-",
        "outputId": "c11efe2c-193a-4a18-c000-418d98a528c2"
      },
      "source": [
        "!kaggle competitions download -c dogs-vs-cats"
      ],
      "execution_count": 3,
      "outputs": [
        {
          "output_type": "stream",
          "name": "stdout",
          "text": [
            "Downloading dogs-vs-cats.zip to /content\n",
            " 99% 805M/812M [00:04<00:00, 206MB/s]\n",
            "100% 812M/812M [00:04<00:00, 211MB/s]\n"
          ]
        }
      ]
    },
    {
      "cell_type": "code",
      "metadata": {
        "id": "y8UWwdXcMOcE"
      },
      "source": [
        "!unzip -qq dogs-vs-cats.zip"
      ],
      "execution_count": 4,
      "outputs": []
    },
    {
      "cell_type": "code",
      "metadata": {
        "id": "ABcoW4YHHkgU"
      },
      "source": [
        "!unzip -qq train.zip"
      ],
      "execution_count": 5,
      "outputs": []
    },
    {
      "cell_type": "code",
      "metadata": {
        "id": "YlOppXz1J48i"
      },
      "source": [
        "#shutil.rmtree(\"./cats_vs_dogs_small\", ignore_errors=True)\n",
        "#shutil.rmtree(\"./test1\", ignore_errors=True)\n",
        "#shutil.rmtree(\"./train\", ignore_errors=True)\n"
      ],
      "execution_count": 7,
      "outputs": []
    },
    {
      "cell_type": "markdown",
      "metadata": {
        "id": "y_d0PlVSTP3P"
      },
      "source": [
        "# Q1. Consider the Cats & Dogs example. Start initially with a training sample of 1000, a validation sample of 500, and a test sample of 500 (like in the text). Use any technique to reduce overfitting and improve performance in developing a network that you train from scratch. What performance did you achieve?"
      ]
    },
    {
      "cell_type": "markdown",
      "metadata": {
        "id": "yOSrvzI-9cVW"
      },
      "source": [
        "#### Test Accuracy - 74.8%\n",
        "\n",
        "#### Training Accuraccy - 98.35%\n",
        "\n",
        "#### Validation Accuracy - 74.00%"
      ]
    },
    {
      "cell_type": "markdown",
      "metadata": {
        "id": "cTtWpwnPz7b5"
      },
      "source": [
        "**Copying images to training, validation, and test directories**"
      ]
    },
    {
      "cell_type": "code",
      "metadata": {
        "id": "mkM9Kg1uLJf-"
      },
      "source": [
        "import os, shutil, pathlib\n",
        "\n",
        "original_dir = pathlib.Path(\"train\")\n",
        "new_base_dir = pathlib.Path(\"cats_vs_dogs_small\")\n",
        "\n",
        "def make_subset(subset_name, start_index, end_index):\n",
        "    for category in (\"cat\", \"dog\"):\n",
        "        dir = new_base_dir / subset_name / category\n",
        "        os.makedirs(dir)\n",
        "        fnames = [f\"{category}.{i}.jpg\" for i in range(start_index, end_index)]\n",
        "        for fname in fnames:\n",
        "            shutil.copyfile(src=original_dir / fname,\n",
        "                            dst=dir / fname)\n",
        "#Creating training, Test and validation sets.\n",
        "#Training has 1000 samples, test has 500 samples and validation has 500 samples.\n",
        "make_subset(\"train\", start_index=0, end_index=1000)\n",
        "make_subset(\"validation\", start_index=1000, end_index=1500)\n",
        "make_subset(\"test\", start_index=1500, end_index=2000)"
      ],
      "execution_count": 8,
      "outputs": []
    },
    {
      "cell_type": "markdown",
      "metadata": {
        "id": "A0Kl-Y9HuD5-"
      },
      "source": [
        "##Data Preprocessing\n",
        "####Converting the data into Preprocessed flaoting point tensors before being fed into the model.\n",
        "####Since the data is in the JPEG file format,here are the steps of  preprocessing:\n",
        "####1.Read the pictures\n",
        "####2.Convert JPEG content into RGB grid of pixels\n",
        "####3. Convert RGB grid of pixels into floating point tensors\n",
        "####4. Resize them\n",
        "####5. Make them into batches"
      ]
    },
    {
      "cell_type": "markdown",
      "metadata": {
        "id": "z4fboVketrcu"
      },
      "source": [
        "**Using `image_dataset_from_directory` to read images**"
      ]
    },
    {
      "cell_type": "code",
      "metadata": {
        "colab": {
          "base_uri": "https://localhost:8080/"
        },
        "id": "n2KO6Tz_LJgA",
        "outputId": "41027a23-00f8-4eb7-c4e8-e8bb6a6c0664"
      },
      "source": [
        "from tensorflow.keras.utils import image_dataset_from_directory\n",
        "\n",
        "train_dataset = image_dataset_from_directory(\n",
        "    new_base_dir / \"train\",\n",
        "    image_size=(180, 180),\n",
        "    batch_size=32)\n",
        "validation_dataset = image_dataset_from_directory(\n",
        "    new_base_dir / \"validation\",\n",
        "    image_size=(180, 180),\n",
        "    batch_size=32)\n",
        "test_dataset = image_dataset_from_directory(\n",
        "    new_base_dir / \"test\",\n",
        "    image_size=(180, 180),\n",
        "    batch_size=32)"
      ],
      "execution_count": 9,
      "outputs": [
        {
          "output_type": "stream",
          "name": "stdout",
          "text": [
            "Found 2000 files belonging to 2 classes.\n",
            "Found 1000 files belonging to 2 classes.\n",
            "Found 1000 files belonging to 2 classes.\n"
          ]
        }
      ]
    },
    {
      "cell_type": "markdown",
      "metadata": {
        "id": "u1ofxMIFp-nL"
      },
      "source": [
        "Create a datset instance from NumPy array of random numbers of 1000 samples and each sample of vector size 16"
      ]
    },
    {
      "cell_type": "code",
      "metadata": {
        "id": "q-OvV49ALJgB"
      },
      "source": [
        "import numpy as np\n",
        "import tensorflow as tf\n",
        "random_numbers = np.random.normal(size=(1000, 16))\n",
        "dataset = tf.data.Dataset.from_tensor_slices(random_numbers)"
      ],
      "execution_count": 10,
      "outputs": []
    },
    {
      "cell_type": "code",
      "metadata": {
        "colab": {
          "base_uri": "https://localhost:8080/"
        },
        "id": "J2VciHhWLJgB",
        "outputId": "297fe5f8-16b3-42f6-f5e0-093fa68c6cac"
      },
      "source": [
        "for i, element in enumerate(dataset):\n",
        "    print(element.shape)\n",
        "    if i >= 2:\n",
        "        break"
      ],
      "execution_count": 11,
      "outputs": [
        {
          "output_type": "stream",
          "name": "stdout",
          "text": [
            "(16,)\n",
            "(16,)\n",
            "(16,)\n"
          ]
        }
      ]
    },
    {
      "cell_type": "markdown",
      "metadata": {
        "id": "ltmtIkKxq4sf"
      },
      "source": [
        "Batching the data into batches of size 32"
      ]
    },
    {
      "cell_type": "code",
      "metadata": {
        "colab": {
          "base_uri": "https://localhost:8080/"
        },
        "id": "2HaIetuiLJgB",
        "outputId": "58d482b3-fa88-4af5-f2e8-980995d9db5b"
      },
      "source": [
        "batched_dataset = dataset.batch(32)\n",
        "for i, element in enumerate(batched_dataset):\n",
        "    print(element.shape)\n",
        "    if i >= 2:\n",
        "        break"
      ],
      "execution_count": 12,
      "outputs": [
        {
          "output_type": "stream",
          "name": "stdout",
          "text": [
            "(32, 16)\n",
            "(32, 16)\n",
            "(32, 16)\n"
          ]
        }
      ]
    },
    {
      "cell_type": "code",
      "metadata": {
        "colab": {
          "base_uri": "https://localhost:8080/"
        },
        "id": "Aqh5SrMXLJgB",
        "outputId": "3dbd3894-f10f-4544-fc6c-7dc46e7ff76a"
      },
      "source": [
        "reshaped_dataset = dataset.map(lambda x: tf.reshape(x, (4, 4)))\n",
        "for i, element in enumerate(reshaped_dataset):\n",
        "    print(element.shape)\n",
        "    if i >= 2:\n",
        "        break"
      ],
      "execution_count": 13,
      "outputs": [
        {
          "output_type": "stream",
          "name": "stdout",
          "text": [
            "(4, 4)\n",
            "(4, 4)\n",
            "(4, 4)\n"
          ]
        }
      ]
    },
    {
      "cell_type": "markdown",
      "metadata": {
        "id": "7nj0WdosLJgC"
      },
      "source": [
        "**Displaying the shapes of the data and labels yielded by the `Dataset`**"
      ]
    },
    {
      "cell_type": "code",
      "metadata": {
        "colab": {
          "base_uri": "https://localhost:8080/"
        },
        "id": "YLVTY3F6LJgC",
        "outputId": "861ad818-3b4e-4a8b-84d1-75a2324ba3f9"
      },
      "source": [
        "for data_batch, labels_batch in train_dataset:\n",
        "    print(\"data batch shape:\", data_batch.shape)\n",
        "    print(\"labels batch shape:\", labels_batch.shape)\n",
        "    break"
      ],
      "execution_count": 14,
      "outputs": [
        {
          "output_type": "stream",
          "name": "stdout",
          "text": [
            "data batch shape: (32, 180, 180, 3)\n",
            "labels batch shape: (32,)\n"
          ]
        }
      ]
    },
    {
      "cell_type": "markdown",
      "metadata": {
        "id": "P1hLVDnpLJf-"
      },
      "source": [
        "##Building the model"
      ]
    },
    {
      "cell_type": "markdown",
      "metadata": {
        "id": "9XAsrO-rtzd-"
      },
      "source": [
        "**Instantiating a small convnet for dogs vs. cats classification**\n"
      ]
    },
    {
      "cell_type": "code",
      "metadata": {
        "id": "beY7fF_KLJf_"
      },
      "source": [
        "from tensorflow import keras\n",
        "from tensorflow.keras import layers\n",
        "\n",
        "inputs = keras.Input(shape=(180, 180, 3))\n",
        "x = layers.Rescaling(1./255)(inputs)\n",
        "x = layers.Conv2D(filters=32, kernel_size=3, activation=\"relu\")(x)\n",
        "x = layers.MaxPooling2D(pool_size=2)(x)\n",
        "x = layers.Conv2D(filters=64, kernel_size=3, activation=\"relu\")(x)\n",
        "x = layers.MaxPooling2D(pool_size=2)(x)\n",
        "x = layers.Conv2D(filters=128, kernel_size=3, activation=\"relu\")(x)\n",
        "x = layers.MaxPooling2D(pool_size=2)(x)\n",
        "x = layers.Conv2D(filters=256, kernel_size=3, activation=\"relu\")(x)\n",
        "x = layers.MaxPooling2D(pool_size=2)(x)\n",
        "x = layers.Conv2D(filters=256, kernel_size=3, activation=\"relu\")(x)\n",
        "x = layers.Flatten()(x)\n",
        "x = layers.Dropout(0.5)(x)\n",
        "outputs = layers.Dense(1, activation=\"sigmoid\")(x)\n",
        "model = keras.Model(inputs=inputs, outputs=outputs)"
      ],
      "execution_count": 15,
      "outputs": []
    },
    {
      "cell_type": "markdown",
      "metadata": {
        "id": "UkzEJ5iuLJgA"
      },
      "source": [
        "**Configuring the model for training**"
      ]
    },
    {
      "cell_type": "code",
      "metadata": {
        "id": "1Ytsm5F8LJgA"
      },
      "source": [
        "model.compile(loss=\"binary_crossentropy\",\n",
        "              optimizer=\"adam\",\n",
        "              metrics=[\"accuracy\"])"
      ],
      "execution_count": 16,
      "outputs": []
    },
    {
      "cell_type": "code",
      "metadata": {
        "colab": {
          "base_uri": "https://localhost:8080/"
        },
        "id": "orpQgeVVLJf_",
        "outputId": "89e42e8a-d668-4ea8-a8a6-a5f3493edde5"
      },
      "source": [
        "model.summary()"
      ],
      "execution_count": 17,
      "outputs": [
        {
          "output_type": "stream",
          "name": "stdout",
          "text": [
            "Model: \"model\"\n",
            "_________________________________________________________________\n",
            " Layer (type)                Output Shape              Param #   \n",
            "=================================================================\n",
            " input_1 (InputLayer)        [(None, 180, 180, 3)]     0         \n",
            "                                                                 \n",
            " rescaling (Rescaling)       (None, 180, 180, 3)       0         \n",
            "                                                                 \n",
            " conv2d (Conv2D)             (None, 178, 178, 32)      896       \n",
            "                                                                 \n",
            " max_pooling2d (MaxPooling2D  (None, 89, 89, 32)       0         \n",
            " )                                                               \n",
            "                                                                 \n",
            " conv2d_1 (Conv2D)           (None, 87, 87, 64)        18496     \n",
            "                                                                 \n",
            " max_pooling2d_1 (MaxPooling  (None, 43, 43, 64)       0         \n",
            " 2D)                                                             \n",
            "                                                                 \n",
            " conv2d_2 (Conv2D)           (None, 41, 41, 128)       73856     \n",
            "                                                                 \n",
            " max_pooling2d_2 (MaxPooling  (None, 20, 20, 128)      0         \n",
            " 2D)                                                             \n",
            "                                                                 \n",
            " conv2d_3 (Conv2D)           (None, 18, 18, 256)       295168    \n",
            "                                                                 \n",
            " max_pooling2d_3 (MaxPooling  (None, 9, 9, 256)        0         \n",
            " 2D)                                                             \n",
            "                                                                 \n",
            " conv2d_4 (Conv2D)           (None, 7, 7, 256)         590080    \n",
            "                                                                 \n",
            " flatten (Flatten)           (None, 12544)             0         \n",
            "                                                                 \n",
            " dropout (Dropout)           (None, 12544)             0         \n",
            "                                                                 \n",
            " dense (Dense)               (None, 1)                 12545     \n",
            "                                                                 \n",
            "=================================================================\n",
            "Total params: 991,041\n",
            "Trainable params: 991,041\n",
            "Non-trainable params: 0\n",
            "_________________________________________________________________\n"
          ]
        }
      ]
    },
    {
      "cell_type": "markdown",
      "metadata": {
        "id": "KDMhNkahLJgC"
      },
      "source": [
        "**Fitting the model using a `Dataset`**"
      ]
    },
    {
      "cell_type": "code",
      "metadata": {
        "colab": {
          "base_uri": "https://localhost:8080/"
        },
        "id": "3_Us5bFxLJgC",
        "outputId": "1ee017cc-0b87-4b42-f0a0-465d3f236912"
      },
      "source": [
        "from keras.callbacks import ModelCheckpoint, EarlyStopping\n",
        "\n",
        "callbacks = [\n",
        "    keras.callbacks.ModelCheckpoint(\n",
        "        filepath=\"convnet_from_scratch.keras\",\n",
        "        save_best_only=True,\n",
        "        monitor=\"val_loss\")\n",
        "]\n",
        "history = model.fit(\n",
        "    train_dataset,\n",
        "    epochs=30,\n",
        "    validation_data=validation_dataset,\n",
        "    callbacks=callbacks)"
      ],
      "execution_count": 18,
      "outputs": [
        {
          "output_type": "stream",
          "name": "stdout",
          "text": [
            "Epoch 1/30\n",
            "63/63 [==============================] - 20s 138ms/step - loss: 0.6969 - accuracy: 0.5030 - val_loss: 0.6931 - val_accuracy: 0.5580\n",
            "Epoch 2/30\n",
            "63/63 [==============================] - 7s 112ms/step - loss: 0.6906 - accuracy: 0.5400 - val_loss: 0.6858 - val_accuracy: 0.5970\n",
            "Epoch 3/30\n",
            "63/63 [==============================] - 7s 112ms/step - loss: 0.6731 - accuracy: 0.5925 - val_loss: 0.6431 - val_accuracy: 0.6440\n",
            "Epoch 4/30\n",
            "63/63 [==============================] - 7s 111ms/step - loss: 0.6491 - accuracy: 0.6320 - val_loss: 0.6710 - val_accuracy: 0.5770\n",
            "Epoch 5/30\n",
            "63/63 [==============================] - 7s 112ms/step - loss: 0.6215 - accuracy: 0.6520 - val_loss: 0.6063 - val_accuracy: 0.6740\n",
            "Epoch 6/30\n",
            "63/63 [==============================] - 7s 110ms/step - loss: 0.6012 - accuracy: 0.6730 - val_loss: 0.6292 - val_accuracy: 0.6530\n",
            "Epoch 7/30\n",
            "63/63 [==============================] - 7s 112ms/step - loss: 0.5732 - accuracy: 0.6940 - val_loss: 0.5893 - val_accuracy: 0.6940\n",
            "Epoch 8/30\n",
            "63/63 [==============================] - 7s 110ms/step - loss: 0.5509 - accuracy: 0.7205 - val_loss: 0.6096 - val_accuracy: 0.6970\n",
            "Epoch 9/30\n",
            "63/63 [==============================] - 7s 110ms/step - loss: 0.5188 - accuracy: 0.7290 - val_loss: 0.5898 - val_accuracy: 0.7120\n",
            "Epoch 10/30\n",
            "63/63 [==============================] - 7s 112ms/step - loss: 0.4678 - accuracy: 0.7820 - val_loss: 0.5922 - val_accuracy: 0.7220\n",
            "Epoch 11/30\n",
            "63/63 [==============================] - 7s 112ms/step - loss: 0.4382 - accuracy: 0.7935 - val_loss: 0.5799 - val_accuracy: 0.7440\n",
            "Epoch 12/30\n",
            "63/63 [==============================] - 7s 110ms/step - loss: 0.3811 - accuracy: 0.8260 - val_loss: 0.5896 - val_accuracy: 0.7240\n",
            "Epoch 13/30\n",
            "63/63 [==============================] - 7s 111ms/step - loss: 0.3461 - accuracy: 0.8415 - val_loss: 0.6216 - val_accuracy: 0.7420\n",
            "Epoch 14/30\n",
            "63/63 [==============================] - 7s 111ms/step - loss: 0.2893 - accuracy: 0.8735 - val_loss: 0.6845 - val_accuracy: 0.7610\n",
            "Epoch 15/30\n",
            "63/63 [==============================] - 7s 111ms/step - loss: 0.2300 - accuracy: 0.9040 - val_loss: 0.6486 - val_accuracy: 0.7660\n",
            "Epoch 16/30\n",
            "63/63 [==============================] - 7s 110ms/step - loss: 0.1883 - accuracy: 0.9220 - val_loss: 0.6716 - val_accuracy: 0.7650\n",
            "Epoch 17/30\n",
            "63/63 [==============================] - 7s 111ms/step - loss: 0.1402 - accuracy: 0.9455 - val_loss: 0.7991 - val_accuracy: 0.7530\n",
            "Epoch 18/30\n",
            "63/63 [==============================] - 7s 111ms/step - loss: 0.1201 - accuracy: 0.9520 - val_loss: 0.7986 - val_accuracy: 0.7690\n",
            "Epoch 19/30\n",
            "63/63 [==============================] - 7s 111ms/step - loss: 0.1056 - accuracy: 0.9645 - val_loss: 0.8392 - val_accuracy: 0.7730\n",
            "Epoch 20/30\n",
            "63/63 [==============================] - 7s 111ms/step - loss: 0.0886 - accuracy: 0.9630 - val_loss: 0.9950 - val_accuracy: 0.7360\n",
            "Epoch 21/30\n",
            "63/63 [==============================] - 7s 111ms/step - loss: 0.0803 - accuracy: 0.9675 - val_loss: 1.0276 - val_accuracy: 0.7540\n",
            "Epoch 22/30\n",
            "63/63 [==============================] - 7s 112ms/step - loss: 0.0483 - accuracy: 0.9835 - val_loss: 1.0751 - val_accuracy: 0.7780\n",
            "Epoch 23/30\n",
            "63/63 [==============================] - 7s 111ms/step - loss: 0.0700 - accuracy: 0.9785 - val_loss: 0.9411 - val_accuracy: 0.7760\n",
            "Epoch 24/30\n",
            "63/63 [==============================] - 7s 111ms/step - loss: 0.0511 - accuracy: 0.9845 - val_loss: 1.0027 - val_accuracy: 0.7780\n",
            "Epoch 25/30\n",
            "63/63 [==============================] - 7s 112ms/step - loss: 0.0318 - accuracy: 0.9920 - val_loss: 0.9942 - val_accuracy: 0.7730\n",
            "Epoch 26/30\n",
            "63/63 [==============================] - 7s 111ms/step - loss: 0.0193 - accuracy: 0.9940 - val_loss: 1.0984 - val_accuracy: 0.7750\n",
            "Epoch 27/30\n",
            "63/63 [==============================] - 7s 111ms/step - loss: 0.0642 - accuracy: 0.9770 - val_loss: 1.0767 - val_accuracy: 0.7720\n",
            "Epoch 28/30\n",
            "63/63 [==============================] - 7s 111ms/step - loss: 0.0522 - accuracy: 0.9830 - val_loss: 1.1850 - val_accuracy: 0.7490\n",
            "Epoch 29/30\n",
            "63/63 [==============================] - 7s 111ms/step - loss: 0.0283 - accuracy: 0.9925 - val_loss: 1.2097 - val_accuracy: 0.7740\n",
            "Epoch 30/30\n",
            "63/63 [==============================] - 7s 111ms/step - loss: 0.0302 - accuracy: 0.9900 - val_loss: 1.3347 - val_accuracy: 0.7590\n"
          ]
        }
      ]
    },
    {
      "cell_type": "markdown",
      "metadata": {
        "id": "wFh51DoALJgC"
      },
      "source": [
        "**Displaying curves of loss and accuracy during training**"
      ]
    },
    {
      "cell_type": "code",
      "metadata": {
        "colab": {
          "base_uri": "https://localhost:8080/",
          "height": 1000
        },
        "id": "k4Iv3jPhLJgC",
        "outputId": "305ce887-af2b-4728-aeca-73914cd1b281"
      },
      "source": [
        "\n",
        "import matplotlib.pyplot as plt\n",
        "\n",
        "plt.figure(figsize=(10, 10))\n",
        "accuracy = history.history[\"accuracy\"]\n",
        "val_accuracy = history.history[\"val_accuracy\"]\n",
        "loss = history.history[\"loss\"]\n",
        "val_loss = history.history[\"val_loss\"]\n",
        "epochs = range(1, len(accuracy) + 1)\n",
        "plt.plot(epochs, accuracy, \"bo\", label=\"Training accuracy\")\n",
        "plt.plot(epochs, val_accuracy, \"b\", label=\"Validation accuracy\")\n",
        "plt.title(\"Training and validation accuracy\")\n",
        "plt.legend()\n",
        "plt.figure()\n",
        "plt.figure(figsize=(10, 10))\n",
        "plt.plot(epochs, loss, \"bo\", label=\"Training loss\")\n",
        "plt.plot(epochs, val_loss, \"b\", label=\"Validation loss\")\n",
        "plt.title(\"Training and validation loss\")\n",
        "plt.legend()\n",
        "plt.show()"
      ],
      "execution_count": 19,
      "outputs": [
        {
          "output_type": "display_data",
          "data": {
            "text/plain": [
              "<Figure size 720x720 with 1 Axes>"
            ],
            "image/png": "[encoded data removed]"
          },
          "metadata": {
            "needs_background": "light"
          }
        },
        {
          "output_type": "display_data",
          "data": {
            "text/plain": [
              "<Figure size 432x288 with 0 Axes>"
            ]
          },
          "metadata": {}
        },
        {
          "output_type": "display_data",
          "data": {
            "text/plain": [
              "<Figure size 720x720 with 1 Axes>"
            ],
            "image/png": "[encoded data removed]"
          },
          "metadata": {
            "needs_background": "light"
          }
        }
      ]
    },
    {
      "cell_type": "markdown",
      "metadata": {
        "id": "IxhZlNRjLJgD"
      },
      "source": [
        "**Evaluating the model on the test set**"
      ]
    },
    {
      "cell_type": "code",
      "metadata": {
        "colab": {
          "base_uri": "https://localhost:8080/"
        },
        "id": "rnkCdcr2LJgD",
        "outputId": "83a4134d-7073-4572-f8ba-25b373f4fb45"
      },
      "source": [
        "test_model = keras.models.load_model(\"convnet_from_scratch.keras\")\n",
        "test_loss, test_acc = test_model.evaluate(test_dataset)\n",
        "print(f\"Test accuracy: {test_acc:.3f}\")"
      ],
      "execution_count": 20,
      "outputs": [
        {
          "output_type": "stream",
          "name": "stdout",
          "text": [
            "32/32 [==============================] - 2s 49ms/step - loss: 0.6102 - accuracy: 0.7220\n",
            "Test accuracy: 0.722\n"
          ]
        }
      ]
    },
    {
      "cell_type": "markdown",
      "metadata": {
        "id": "JYJ0Y_Jtcy7O"
      },
      "source": [
        "# Q2.  Increase your training sample size. You may pick any amount. Keep the validation and test samples the same as above. Optimize your network (again training from scratch). What performance did you achieve?"
      ]
    },
    {
      "cell_type": "markdown",
      "metadata": {
        "id": "a-M774A19ZOx"
      },
      "source": [
        "#### Test Accuracy - 80.00%\n",
        "\n",
        "#### Training Accuraccy - 86.55%\n",
        "\n",
        "#### Validation Accuracy - 79.90% \n"
      ]
    },
    {
      "cell_type": "markdown",
      "metadata": {
        "id": "go8Th_HDLJgD"
      },
      "source": [
        "**Define a data augmentation stage to add to an image model**"
      ]
    },
    {
      "cell_type": "code",
      "metadata": {
        "id": "Ecz_riV30EGy"
      },
      "source": [
        "import os, shutil, pathlib\n",
        "\n",
        "shutil.rmtree(\"./cats_vs_dogs_small_Q2\", ignore_errors=True)\n",
        "\n",
        "original_dir = pathlib.Path(\"train\")\n",
        "new_base_dir = pathlib.Path(\"cats_vs_dogs_small_Q2\")\n",
        "\n",
        "def make_subset(subset_name, start_index, end_index):\n",
        "    for category in (\"cat\", \"dog\"):\n",
        "        dir = new_base_dir / subset_name / category\n",
        "        os.makedirs(dir)\n",
        "        fnames = [f\"{category}.{i}.jpg\" for i in range(start_index, end_index)]\n",
        "        for fname in fnames:\n",
        "            shutil.copyfile(src=original_dir / fname,\n",
        "                            dst=dir / fname)\n",
        "#Creating training, Test and validation sets.\n",
        "#Training has 1000 samples, test has 500 samples and validation has 500 samples.\n",
        "make_subset(\"train\", start_index=0, end_index=1500)\n",
        "make_subset(\"validation\", start_index=1500, end_index=2000)\n",
        "make_subset(\"test\", start_index=2000, end_index=2500)"
      ],
      "execution_count": 21,
      "outputs": []
    },
    {
      "cell_type": "code",
      "metadata": {
        "id": "RopcC5mFLJgE"
      },
      "source": [
        "data_augmentation = keras.Sequential(\n",
        "    [\n",
        "        layers.RandomFlip(\"horizontal\"),\n",
        "        layers.RandomRotation(0.1),\n",
        "        layers.RandomZoom(0.2),\n",
        "    ]\n",
        ")"
      ],
      "execution_count": 22,
      "outputs": []
    },
    {
      "cell_type": "markdown",
      "metadata": {
        "id": "cRpQ-P8eLJgE"
      },
      "source": [
        "**Displaying some randomly augmented training images**"
      ]
    },
    {
      "cell_type": "code",
      "metadata": {
        "colab": {
          "base_uri": "https://localhost:8080/",
          "height": 575
        },
        "id": "w4fdl64zLJgE",
        "outputId": "e6c15e22-8591-4eeb-bde0-bdea53ffdb3f"
      },
      "source": [
        "plt.figure(figsize=(10, 10))\n",
        "for images, _ in train_dataset.take(1):\n",
        "    for i in range(9):\n",
        "        augmented_images = data_augmentation(images)\n",
        "        ax = plt.subplot(3, 3, i + 1)\n",
        "        plt.imshow(augmented_images[0].numpy().astype(\"uint8\"))\n",
        "        plt.axis(\"off\")"
      ],
      "execution_count": 23,
      "outputs": [
        {
          "output_type": "display_data",
          "data": {
            "text/plain": [
              "<Figure size 720x720 with 9 Axes>"
            ],
            "image/png": "[encoded data removed]"
          },
          "metadata": {
            "needs_background": "light"
          }
        }
      ]
    },
    {
      "cell_type": "markdown",
      "metadata": {
        "id": "mtaPOa7ILJgE"
      },
      "source": [
        "**Defining a new convnet that includes image augmentation and dropout**"
      ]
    },
    {
      "cell_type": "code",
      "metadata": {
        "id": "zziUmvoPLJgE"
      },
      "source": [
        "inputs = keras.Input(shape=(180, 180, 3))\n",
        "x = data_augmentation(inputs)\n",
        "x = layers.Rescaling(1./255)(x)\n",
        "x = layers.Conv2D(filters=32, kernel_size=3, activation=\"relu\")(x)\n",
        "x = layers.MaxPooling2D(pool_size=2)(x)\n",
        "x = layers.Conv2D(filters=64, kernel_size=3, activation=\"relu\")(x)\n",
        "x = layers.MaxPooling2D(pool_size=2)(x)\n",
        "x = layers.Conv2D(filters=128, kernel_size=3, activation=\"relu\")(x)\n",
        "x = layers.MaxPooling2D(pool_size=2)(x)\n",
        "x = layers.Conv2D(filters=256, kernel_size=3, activation=\"relu\")(x)\n",
        "x = layers.MaxPooling2D(pool_size=2)(x)\n",
        "x = layers.Conv2D(filters=256, kernel_size=3, activation=\"relu\")(x)\n",
        "x = layers.Flatten()(x)\n",
        "x = layers.Dropout(0.5)(x)\n",
        "outputs = layers.Dense(1, activation=\"sigmoid\")(x)\n",
        "model = keras.Model(inputs=inputs, outputs=outputs)\n",
        "\n",
        "model.compile(loss=\"binary_crossentropy\",\n",
        "              optimizer=\"adam\",\n",
        "              metrics=[\"accuracy\"])"
      ],
      "execution_count": 24,
      "outputs": []
    },
    {
      "cell_type": "markdown",
      "metadata": {
        "id": "8cneVnr6LJgF"
      },
      "source": [
        "**Training the regularized convnet**"
      ]
    },
    {
      "cell_type": "code",
      "metadata": {
        "colab": {
          "base_uri": "https://localhost:8080/"
        },
        "id": "cc6rLTqeLJgF",
        "outputId": "a66f2874-6bfb-4515-ffa3-17b9eef57b9b"
      },
      "source": [
        "callbacks = [\n",
        "    keras.callbacks.ModelCheckpoint(\n",
        "        filepath=\"convnet_from_scratch_with_augmentation.keras\",\n",
        "        save_best_only=True,\n",
        "        monitor=\"val_loss\")\n",
        "]\n",
        "history = model.fit(\n",
        "    train_dataset,\n",
        "    epochs=50,\n",
        "    validation_data=validation_dataset,\n",
        "    callbacks=callbacks)"
      ],
      "execution_count": 25,
      "outputs": [
        {
          "output_type": "stream",
          "name": "stdout",
          "text": [
            "Epoch 1/50\n",
            "63/63 [==============================] - 10s 121ms/step - loss: 0.6951 - accuracy: 0.5050 - val_loss: 0.6878 - val_accuracy: 0.5610\n",
            "Epoch 2/50\n",
            "63/63 [==============================] - 8s 118ms/step - loss: 0.6879 - accuracy: 0.5535 - val_loss: 0.6710 - val_accuracy: 0.5750\n",
            "Epoch 3/50\n",
            "63/63 [==============================] - 8s 118ms/step - loss: 0.6814 - accuracy: 0.5595 - val_loss: 0.6696 - val_accuracy: 0.5250\n",
            "Epoch 4/50\n",
            "63/63 [==============================] - 8s 117ms/step - loss: 0.6721 - accuracy: 0.5870 - val_loss: 0.6540 - val_accuracy: 0.5970\n",
            "Epoch 5/50\n",
            "63/63 [==============================] - 8s 118ms/step - loss: 0.6494 - accuracy: 0.6105 - val_loss: 0.6145 - val_accuracy: 0.6670\n",
            "Epoch 6/50\n",
            "63/63 [==============================] - 8s 117ms/step - loss: 0.6546 - accuracy: 0.6155 - val_loss: 0.6397 - val_accuracy: 0.6240\n",
            "Epoch 7/50\n",
            "63/63 [==============================] - 8s 118ms/step - loss: 0.6423 - accuracy: 0.6240 - val_loss: 0.6441 - val_accuracy: 0.6080\n",
            "Epoch 8/50\n",
            "63/63 [==============================] - 8s 117ms/step - loss: 0.6297 - accuracy: 0.6380 - val_loss: 0.6065 - val_accuracy: 0.6690\n",
            "Epoch 9/50\n",
            "63/63 [==============================] - 8s 117ms/step - loss: 0.5921 - accuracy: 0.6990 - val_loss: 0.5771 - val_accuracy: 0.6690\n",
            "Epoch 10/50\n",
            "63/63 [==============================] - 8s 117ms/step - loss: 0.6211 - accuracy: 0.6600 - val_loss: 0.5616 - val_accuracy: 0.7070\n",
            "Epoch 11/50\n",
            "63/63 [==============================] - 8s 117ms/step - loss: 0.5657 - accuracy: 0.7060 - val_loss: 0.5318 - val_accuracy: 0.7270\n",
            "Epoch 12/50\n",
            "63/63 [==============================] - 8s 118ms/step - loss: 0.5566 - accuracy: 0.7195 - val_loss: 0.6315 - val_accuracy: 0.6590\n",
            "Epoch 13/50\n",
            "63/63 [==============================] - 8s 118ms/step - loss: 0.5679 - accuracy: 0.7125 - val_loss: 0.5669 - val_accuracy: 0.7120\n",
            "Epoch 14/50\n",
            "63/63 [==============================] - 8s 118ms/step - loss: 0.5379 - accuracy: 0.7255 - val_loss: 0.5308 - val_accuracy: 0.7260\n",
            "Epoch 15/50\n",
            "63/63 [==============================] - 8s 117ms/step - loss: 0.5040 - accuracy: 0.7660 - val_loss: 0.6097 - val_accuracy: 0.6880\n",
            "Epoch 16/50\n",
            "63/63 [==============================] - 8s 118ms/step - loss: 0.5243 - accuracy: 0.7345 - val_loss: 0.5191 - val_accuracy: 0.7290\n",
            "Epoch 17/50\n",
            "63/63 [==============================] - 8s 118ms/step - loss: 0.5096 - accuracy: 0.7445 - val_loss: 0.4882 - val_accuracy: 0.7690\n",
            "Epoch 18/50\n",
            "63/63 [==============================] - 8s 120ms/step - loss: 0.5033 - accuracy: 0.7550 - val_loss: 0.4826 - val_accuracy: 0.7690\n",
            "Epoch 19/50\n",
            "63/63 [==============================] - 8s 119ms/step - loss: 0.4722 - accuracy: 0.7750 - val_loss: 0.4823 - val_accuracy: 0.7680\n",
            "Epoch 20/50\n",
            "63/63 [==============================] - 8s 117ms/step - loss: 0.4778 - accuracy: 0.7730 - val_loss: 0.4760 - val_accuracy: 0.7680\n",
            "Epoch 21/50\n",
            "63/63 [==============================] - 8s 117ms/step - loss: 0.4712 - accuracy: 0.7830 - val_loss: 0.4965 - val_accuracy: 0.7590\n",
            "Epoch 22/50\n",
            "63/63 [==============================] - 8s 118ms/step - loss: 0.4568 - accuracy: 0.7870 - val_loss: 0.4557 - val_accuracy: 0.7870\n",
            "Epoch 23/50\n",
            "63/63 [==============================] - 8s 117ms/step - loss: 0.4558 - accuracy: 0.7860 - val_loss: 0.4886 - val_accuracy: 0.7650\n",
            "Epoch 24/50\n",
            "63/63 [==============================] - 8s 117ms/step - loss: 0.4379 - accuracy: 0.7925 - val_loss: 0.4479 - val_accuracy: 0.8070\n",
            "Epoch 25/50\n",
            "63/63 [==============================] - 8s 116ms/step - loss: 0.4288 - accuracy: 0.8005 - val_loss: 0.4556 - val_accuracy: 0.7870\n",
            "Epoch 26/50\n",
            "63/63 [==============================] - 8s 117ms/step - loss: 0.4229 - accuracy: 0.7990 - val_loss: 0.4822 - val_accuracy: 0.7810\n",
            "Epoch 27/50\n",
            "63/63 [==============================] - 8s 118ms/step - loss: 0.4255 - accuracy: 0.8045 - val_loss: 0.4228 - val_accuracy: 0.8000\n",
            "Epoch 28/50\n",
            "63/63 [==============================] - 8s 117ms/step - loss: 0.4134 - accuracy: 0.8205 - val_loss: 0.4747 - val_accuracy: 0.7600\n",
            "Epoch 29/50\n",
            "63/63 [==============================] - 8s 117ms/step - loss: 0.3995 - accuracy: 0.8110 - val_loss: 0.4700 - val_accuracy: 0.7920\n",
            "Epoch 30/50\n",
            "63/63 [==============================] - 8s 117ms/step - loss: 0.4094 - accuracy: 0.8100 - val_loss: 0.4641 - val_accuracy: 0.7940\n",
            "Epoch 31/50\n",
            "63/63 [==============================] - 8s 120ms/step - loss: 0.3802 - accuracy: 0.8295 - val_loss: 0.4075 - val_accuracy: 0.8160\n",
            "Epoch 32/50\n",
            "63/63 [==============================] - 8s 117ms/step - loss: 0.3752 - accuracy: 0.8345 - val_loss: 0.4308 - val_accuracy: 0.7980\n",
            "Epoch 33/50\n",
            "63/63 [==============================] - 8s 117ms/step - loss: 0.3927 - accuracy: 0.8200 - val_loss: 0.4678 - val_accuracy: 0.7970\n",
            "Epoch 34/50\n",
            "63/63 [==============================] - 8s 116ms/step - loss: 0.3528 - accuracy: 0.8485 - val_loss: 0.4080 - val_accuracy: 0.8190\n",
            "Epoch 35/50\n",
            "63/63 [==============================] - 8s 117ms/step - loss: 0.3369 - accuracy: 0.8625 - val_loss: 0.4831 - val_accuracy: 0.8030\n",
            "Epoch 36/50\n",
            "63/63 [==============================] - 8s 117ms/step - loss: 0.3412 - accuracy: 0.8490 - val_loss: 0.4596 - val_accuracy: 0.8060\n",
            "Epoch 37/50\n",
            "63/63 [==============================] - 8s 117ms/step - loss: 0.3275 - accuracy: 0.8645 - val_loss: 0.4308 - val_accuracy: 0.8160\n",
            "Epoch 38/50\n",
            "63/63 [==============================] - 8s 116ms/step - loss: 0.3060 - accuracy: 0.8645 - val_loss: 0.6527 - val_accuracy: 0.7700\n",
            "Epoch 39/50\n",
            "63/63 [==============================] - 8s 117ms/step - loss: 0.3539 - accuracy: 0.8445 - val_loss: 0.4142 - val_accuracy: 0.8250\n",
            "Epoch 40/50\n",
            "63/63 [==============================] - 8s 117ms/step - loss: 0.3115 - accuracy: 0.8700 - val_loss: 0.5261 - val_accuracy: 0.8060\n",
            "Epoch 41/50\n",
            "63/63 [==============================] - 8s 116ms/step - loss: 0.3225 - accuracy: 0.8535 - val_loss: 0.4333 - val_accuracy: 0.8120\n",
            "Epoch 42/50\n",
            "63/63 [==============================] - 8s 118ms/step - loss: 0.2991 - accuracy: 0.8705 - val_loss: 0.5758 - val_accuracy: 0.7920\n",
            "Epoch 43/50\n",
            "63/63 [==============================] - 8s 117ms/step - loss: 0.2966 - accuracy: 0.8710 - val_loss: 0.4805 - val_accuracy: 0.7930\n",
            "Epoch 44/50\n",
            "63/63 [==============================] - 8s 118ms/step - loss: 0.2850 - accuracy: 0.8730 - val_loss: 0.4691 - val_accuracy: 0.8180\n",
            "Epoch 45/50\n",
            "63/63 [==============================] - 8s 117ms/step - loss: 0.2775 - accuracy: 0.8845 - val_loss: 0.4285 - val_accuracy: 0.8130\n",
            "Epoch 46/50\n",
            "63/63 [==============================] - 8s 116ms/step - loss: 0.2866 - accuracy: 0.8785 - val_loss: 0.4135 - val_accuracy: 0.8270\n",
            "Epoch 47/50\n",
            "63/63 [==============================] - 8s 116ms/step - loss: 0.2743 - accuracy: 0.8845 - val_loss: 0.4743 - val_accuracy: 0.8150\n",
            "Epoch 48/50\n",
            "63/63 [==============================] - 8s 117ms/step - loss: 0.2762 - accuracy: 0.8770 - val_loss: 0.4622 - val_accuracy: 0.8120\n",
            "Epoch 49/50\n",
            "63/63 [==============================] - 8s 117ms/step - loss: 0.2607 - accuracy: 0.8890 - val_loss: 0.4768 - val_accuracy: 0.8200\n",
            "Epoch 50/50\n",
            "63/63 [==============================] - 8s 117ms/step - loss: 0.2482 - accuracy: 0.9010 - val_loss: 0.4576 - val_accuracy: 0.8250\n"
          ]
        }
      ]
    },
    {
      "cell_type": "markdown",
      "metadata": {
        "id": "K7R_41A7LJgF"
      },
      "source": [
        "**Evaluating the model on the test set**"
      ]
    },
    {
      "cell_type": "code",
      "metadata": {
        "colab": {
          "base_uri": "https://localhost:8080/"
        },
        "id": "LWMgTFPOLJgF",
        "outputId": "d0acc9d2-6c3b-48e3-f054-eca67a5ab42a"
      },
      "source": [
        "test_model = keras.models.load_model(\n",
        "    \"convnet_from_scratch_with_augmentation.keras\")\n",
        "test_loss, test_acc = test_model.evaluate(test_dataset)\n",
        "print(f\"Test accuracy: {test_acc:.3f}\")"
      ],
      "execution_count": 26,
      "outputs": [
        {
          "output_type": "stream",
          "name": "stdout",
          "text": [
            "32/32 [==============================] - 2s 47ms/step - loss: 0.4431 - accuracy: 0.7910\n",
            "Test accuracy: 0.791\n"
          ]
        }
      ]
    },
    {
      "cell_type": "markdown",
      "metadata": {
        "id": "ZBTatsuzYBsL"
      },
      "source": [
        "# Q3. Now change your training sample so that you achieve better performance than those from Steps 1 and 2. This sample size may be larger, or smaller than those in the previous steps. The objective is to find the ideal training sample size to get best prediction results.\n",
        "\n",
        "\n"
      ]
    },
    {
      "cell_type": "markdown",
      "metadata": {
        "id": "1JTDXQOn8ndK"
      },
      "source": [
        "#### Test Accuracy - 83.2%\n",
        "\n",
        "#### Training Accuraccy - 93.6%\n",
        "\n",
        "#### Validation Accuracy - 81.20%\n"
      ]
    },
    {
      "cell_type": "markdown",
      "metadata": {
        "id": "RCwHLictwLGl"
      },
      "source": [
        "### Increasing the training sample to 2000, keeping the Validation and test sets the same as before(500 samples)"
      ]
    },
    {
      "cell_type": "code",
      "metadata": {
        "id": "WNwoFRIWwzCa"
      },
      "source": [
        "original_dir = pathlib.Path(\"train\")\n",
        "new_base_dir = pathlib.Path(\"cats_vs_dogs_small_Q3\")\n",
        "\n",
        "def make_subset(subset_name, start_index, end_index):\n",
        "    for category in (\"cat\", \"dog\"):\n",
        "        dir = new_base_dir / subset_name / category\n",
        "        os.makedirs(dir)\n",
        "        fnames = [f\"{category}.{i}.jpg\" for i in range(start_index, end_index)]\n",
        "        for fname in fnames:\n",
        "            shutil.copyfile(src=original_dir / fname,\n",
        "                            dst=dir / fname)\n",
        "#Creating training, Test and validation sets.\n",
        "#Training has 1000 samples, test has 500 samples and validation has 500 samples.\n",
        "make_subset(\"train\", start_index=0, end_index=2000)\n",
        "make_subset(\"validation\", start_index=2000, end_index=2500)\n",
        "make_subset(\"test\", start_index=2500, end_index=3000)"
      ],
      "execution_count": 27,
      "outputs": []
    },
    {
      "cell_type": "markdown",
      "metadata": {
        "id": "q4Dy_A0exWqN"
      },
      "source": [
        "**Defining a new convnet with increased training samples,image augmentation and dropout**"
      ]
    },
    {
      "cell_type": "code",
      "metadata": {
        "id": "2HIQ8cHQxWOF"
      },
      "source": [
        "inputs = keras.Input(shape=(180, 180, 3))\n",
        "x = data_augmentation(inputs)\n",
        "x = layers.Rescaling(1./255)(x)\n",
        "x = layers.Conv2D(filters=32, kernel_size=3, activation=\"relu\")(x)\n",
        "x = layers.MaxPooling2D(pool_size=2)(x)\n",
        "x = layers.Conv2D(filters=64, kernel_size=3, activation=\"relu\")(x)\n",
        "x = layers.MaxPooling2D(pool_size=2)(x)\n",
        "x = layers.Conv2D(filters=128, kernel_size=3, activation=\"relu\")(x)\n",
        "x = layers.MaxPooling2D(pool_size=2)(x)\n",
        "x = layers.Conv2D(filters=256, kernel_size=3, activation=\"relu\")(x)\n",
        "x = layers.MaxPooling2D(pool_size=2)(x)\n",
        "x = layers.Conv2D(filters=256, kernel_size=3, activation=\"relu\")(x)\n",
        "x = layers.Flatten()(x)\n",
        "x = layers.Dropout(0.5)(x)\n",
        "outputs = layers.Dense(1, activation=\"sigmoid\")(x)\n",
        "model = keras.Model(inputs=inputs, outputs=outputs)\n",
        "\n",
        "model.compile(loss=\"binary_crossentropy\",\n",
        "              optimizer=\"adam\",\n",
        "              metrics=[\"accuracy\"])"
      ],
      "execution_count": 28,
      "outputs": []
    },
    {
      "cell_type": "code",
      "metadata": {
        "colab": {
          "base_uri": "https://localhost:8080/"
        },
        "id": "TC3vdZWhQLu3",
        "outputId": "15031d8b-e66c-4a7e-bbe7-88c6be6eeee1"
      },
      "source": [
        "callbacks = [\n",
        "    keras.callbacks.ModelCheckpoint(\n",
        "        filepath=\"convnet_from_scratch_with_augmentation1.keras\",\n",
        "        save_best_only=True,\n",
        "        monitor=\"val_loss\")\n",
        "]\n",
        "history = model.fit(\n",
        "    train_dataset,\n",
        "    epochs=50,\n",
        "    validation_data=validation_dataset,\n",
        "    callbacks=callbacks)"
      ],
      "execution_count": 29,
      "outputs": [
        {
          "output_type": "stream",
          "name": "stdout",
          "text": [
            "Epoch 1/50\n",
            "63/63 [==============================] - 9s 120ms/step - loss: 0.6973 - accuracy: 0.5010 - val_loss: 0.6919 - val_accuracy: 0.5000\n",
            "Epoch 2/50\n",
            "63/63 [==============================] - 8s 116ms/step - loss: 0.6935 - accuracy: 0.4850 - val_loss: 0.6931 - val_accuracy: 0.5000\n",
            "Epoch 3/50\n",
            "63/63 [==============================] - 8s 116ms/step - loss: 0.6936 - accuracy: 0.4765 - val_loss: 0.6929 - val_accuracy: 0.5040\n",
            "Epoch 4/50\n",
            "63/63 [==============================] - 8s 117ms/step - loss: 0.6937 - accuracy: 0.5110 - val_loss: 0.6898 - val_accuracy: 0.5530\n",
            "Epoch 5/50\n",
            "63/63 [==============================] - 8s 116ms/step - loss: 0.6914 - accuracy: 0.5230 - val_loss: 0.6852 - val_accuracy: 0.5420\n",
            "Epoch 6/50\n",
            "63/63 [==============================] - 8s 116ms/step - loss: 0.6880 - accuracy: 0.5190 - val_loss: 0.6826 - val_accuracy: 0.5570\n",
            "Epoch 7/50\n",
            "63/63 [==============================] - 8s 116ms/step - loss: 0.6953 - accuracy: 0.5255 - val_loss: 0.6926 - val_accuracy: 0.5110\n",
            "Epoch 8/50\n",
            "63/63 [==============================] - 8s 115ms/step - loss: 0.6918 - accuracy: 0.5365 - val_loss: 0.6907 - val_accuracy: 0.5170\n",
            "Epoch 9/50\n",
            "63/63 [==============================] - 8s 117ms/step - loss: 0.6893 - accuracy: 0.5260 - val_loss: 0.6826 - val_accuracy: 0.5360\n",
            "Epoch 10/50\n",
            "63/63 [==============================] - 8s 118ms/step - loss: 0.6923 - accuracy: 0.5310 - val_loss: 0.6809 - val_accuracy: 0.5620\n",
            "Epoch 11/50\n",
            "63/63 [==============================] - 8s 117ms/step - loss: 0.6858 - accuracy: 0.5430 - val_loss: 0.6787 - val_accuracy: 0.5620\n",
            "Epoch 12/50\n",
            "63/63 [==============================] - 8s 116ms/step - loss: 0.6898 - accuracy: 0.5330 - val_loss: 0.6829 - val_accuracy: 0.5760\n",
            "Epoch 13/50\n",
            "63/63 [==============================] - 8s 116ms/step - loss: 0.6841 - accuracy: 0.5530 - val_loss: 0.6808 - val_accuracy: 0.5690\n",
            "Epoch 14/50\n",
            "63/63 [==============================] - 8s 117ms/step - loss: 0.6716 - accuracy: 0.5740 - val_loss: 0.6737 - val_accuracy: 0.5220\n",
            "Epoch 15/50\n",
            "63/63 [==============================] - 8s 115ms/step - loss: 0.6866 - accuracy: 0.5325 - val_loss: 0.6780 - val_accuracy: 0.5690\n",
            "Epoch 16/50\n",
            "63/63 [==============================] - 8s 116ms/step - loss: 0.6690 - accuracy: 0.5575 - val_loss: 0.6828 - val_accuracy: 0.5600\n",
            "Epoch 17/50\n",
            "63/63 [==============================] - 8s 116ms/step - loss: 0.6662 - accuracy: 0.5610 - val_loss: 0.6780 - val_accuracy: 0.5880\n",
            "Epoch 18/50\n",
            "63/63 [==============================] - 8s 117ms/step - loss: 0.6616 - accuracy: 0.6060 - val_loss: 0.6417 - val_accuracy: 0.6240\n",
            "Epoch 19/50\n",
            "63/63 [==============================] - 8s 118ms/step - loss: 0.6426 - accuracy: 0.6400 - val_loss: 0.6448 - val_accuracy: 0.6180\n",
            "Epoch 20/50\n",
            "63/63 [==============================] - 8s 118ms/step - loss: 0.6193 - accuracy: 0.6600 - val_loss: 0.6224 - val_accuracy: 0.6200\n",
            "Epoch 21/50\n",
            "63/63 [==============================] - 8s 117ms/step - loss: 0.6138 - accuracy: 0.6640 - val_loss: 0.6046 - val_accuracy: 0.6700\n",
            "Epoch 22/50\n",
            "63/63 [==============================] - 8s 118ms/step - loss: 0.5860 - accuracy: 0.6810 - val_loss: 0.5939 - val_accuracy: 0.6750\n",
            "Epoch 23/50\n",
            "63/63 [==============================] - 8s 119ms/step - loss: 0.5864 - accuracy: 0.6850 - val_loss: 0.5692 - val_accuracy: 0.6960\n",
            "Epoch 24/50\n",
            "63/63 [==============================] - 8s 119ms/step - loss: 0.5749 - accuracy: 0.6915 - val_loss: 0.5559 - val_accuracy: 0.7190\n",
            "Epoch 25/50\n",
            "63/63 [==============================] - 8s 117ms/step - loss: 0.5637 - accuracy: 0.7115 - val_loss: 0.6034 - val_accuracy: 0.6870\n",
            "Epoch 26/50\n",
            "63/63 [==============================] - 8s 117ms/step - loss: 0.5570 - accuracy: 0.7185 - val_loss: 0.5229 - val_accuracy: 0.7310\n",
            "Epoch 27/50\n",
            "63/63 [==============================] - 8s 116ms/step - loss: 0.5310 - accuracy: 0.7350 - val_loss: 0.5529 - val_accuracy: 0.7000\n",
            "Epoch 28/50\n",
            "63/63 [==============================] - 8s 118ms/step - loss: 0.5477 - accuracy: 0.7140 - val_loss: 0.5140 - val_accuracy: 0.7420\n",
            "Epoch 29/50\n",
            "63/63 [==============================] - 8s 116ms/step - loss: 0.5324 - accuracy: 0.7305 - val_loss: 0.5226 - val_accuracy: 0.7390\n",
            "Epoch 30/50\n",
            "63/63 [==============================] - 8s 117ms/step - loss: 0.5237 - accuracy: 0.7390 - val_loss: 0.5502 - val_accuracy: 0.7320\n",
            "Epoch 31/50\n",
            "63/63 [==============================] - 8s 116ms/step - loss: 0.5089 - accuracy: 0.7520 - val_loss: 0.5402 - val_accuracy: 0.7330\n",
            "Epoch 32/50\n",
            "63/63 [==============================] - 8s 116ms/step - loss: 0.5305 - accuracy: 0.7385 - val_loss: 0.5478 - val_accuracy: 0.7410\n",
            "Epoch 33/50\n",
            "63/63 [==============================] - 8s 117ms/step - loss: 0.4847 - accuracy: 0.7640 - val_loss: 0.5371 - val_accuracy: 0.7530\n",
            "Epoch 34/50\n",
            "63/63 [==============================] - 8s 116ms/step - loss: 0.4829 - accuracy: 0.7600 - val_loss: 0.5910 - val_accuracy: 0.7440\n",
            "Epoch 35/50\n",
            "63/63 [==============================] - 8s 117ms/step - loss: 0.4910 - accuracy: 0.7695 - val_loss: 0.5559 - val_accuracy: 0.7140\n",
            "Epoch 36/50\n",
            "63/63 [==============================] - 8s 116ms/step - loss: 0.4922 - accuracy: 0.7615 - val_loss: 0.5284 - val_accuracy: 0.7580\n",
            "Epoch 37/50\n",
            "63/63 [==============================] - 8s 117ms/step - loss: 0.4722 - accuracy: 0.7745 - val_loss: 0.4918 - val_accuracy: 0.7730\n",
            "Epoch 38/50\n",
            "63/63 [==============================] - 8s 117ms/step - loss: 0.4649 - accuracy: 0.7820 - val_loss: 0.4814 - val_accuracy: 0.7780\n",
            "Epoch 39/50\n",
            "63/63 [==============================] - 8s 119ms/step - loss: 0.4529 - accuracy: 0.7895 - val_loss: 0.4828 - val_accuracy: 0.7790\n",
            "Epoch 40/50\n",
            "63/63 [==============================] - 8s 116ms/step - loss: 0.4445 - accuracy: 0.7935 - val_loss: 0.5610 - val_accuracy: 0.7380\n",
            "Epoch 41/50\n",
            "63/63 [==============================] - 8s 117ms/step - loss: 0.4321 - accuracy: 0.8125 - val_loss: 0.4967 - val_accuracy: 0.7780\n",
            "Epoch 42/50\n",
            "63/63 [==============================] - 8s 116ms/step - loss: 0.4186 - accuracy: 0.8140 - val_loss: 0.5087 - val_accuracy: 0.7680\n",
            "Epoch 43/50\n",
            "63/63 [==============================] - 8s 117ms/step - loss: 0.4208 - accuracy: 0.8000 - val_loss: 0.5029 - val_accuracy: 0.7740\n",
            "Epoch 44/50\n",
            "63/63 [==============================] - 8s 117ms/step - loss: 0.3998 - accuracy: 0.8265 - val_loss: 0.5443 - val_accuracy: 0.7960\n",
            "Epoch 45/50\n",
            "63/63 [==============================] - 8s 117ms/step - loss: 0.4211 - accuracy: 0.8125 - val_loss: 0.4820 - val_accuracy: 0.7810\n",
            "Epoch 46/50\n",
            "63/63 [==============================] - 8s 118ms/step - loss: 0.4142 - accuracy: 0.8200 - val_loss: 0.5345 - val_accuracy: 0.7750\n",
            "Epoch 47/50\n",
            "63/63 [==============================] - 8s 117ms/step - loss: 0.3991 - accuracy: 0.8125 - val_loss: 0.4996 - val_accuracy: 0.7910\n",
            "Epoch 48/50\n",
            "63/63 [==============================] - 8s 117ms/step - loss: 0.3834 - accuracy: 0.8240 - val_loss: 0.5242 - val_accuracy: 0.7850\n",
            "Epoch 49/50\n",
            "63/63 [==============================] - 8s 117ms/step - loss: 0.3711 - accuracy: 0.8330 - val_loss: 0.5212 - val_accuracy: 0.7920\n",
            "Epoch 50/50\n",
            "63/63 [==============================] - 8s 118ms/step - loss: 0.3667 - accuracy: 0.8400 - val_loss: 0.4686 - val_accuracy: 0.8080\n"
          ]
        }
      ]
    },
    {
      "cell_type": "code",
      "metadata": {
        "colab": {
          "base_uri": "https://localhost:8080/"
        },
        "id": "dl-PYvrHR2GC",
        "outputId": "3dc1a699-d25b-4579-d3d4-04377d45a5c6"
      },
      "source": [
        "test_model = keras.models.load_model(\n",
        "    \"convnet_from_scratch_with_augmentation1.keras\")\n",
        "test_loss, test_acc = test_model.evaluate(test_dataset)\n",
        "print(f\"Test accuracy: {test_acc:.3f}\")"
      ],
      "execution_count": 30,
      "outputs": [
        {
          "output_type": "stream",
          "name": "stdout",
          "text": [
            "32/32 [==============================] - 2s 51ms/step - loss: 0.5053 - accuracy: 0.7740\n",
            "Test accuracy: 0.774\n"
          ]
        }
      ]
    },
    {
      "cell_type": "markdown",
      "metadata": {
        "id": "iLu-7fNMCykm"
      },
      "source": [
        "# Summary for Q1, Q2 and Q3\n",
        "\n",
        "---\n",
        "\n",
        "\n",
        "\n",
        "### I started by training a small convnet on the 1,000 training samples, without any optimization to set a baseline which got us a classification accuracy in the vicinity of 70%. The main issue that was identified was overfitting. \n",
        "\n",
        "###Then I introduced data augmentation and other optimization techniques like earlystopping(which determines the optimal number of epochs), Regularization and Dropout. By using data augmentation, we improved the model to reach an accuracy of 80%.\n",
        "\n",
        "###Then I tried to find the optimal training sample to increase classification accuracy.\n",
        "\n",
        "###It was observed by the manipulation of the training sample and usage of other optimization techniques that the best ways prevent overfitting are as follows\n",
        "### 1. **Getting more training samples** - Increasing the training sample is not always possible. One way of optimally using the less training samples is Data Augmentation.\n",
        "### 2. **Reducing the capacity of the network** - It was observed that reducing the size of the model i.e the number of learnable parameters in the model which is essentially the  number of layers  and the number of units in layers, considerably prevents overfitting\n",
        "### 3. **Adding weight regularization** - Putting constraint on the complexity of a network by forcing the weights  to take only small values, which helps in regularizing the distribution of the weight values which in turns helps in preventing or minimizing overfitting\n",
        "### 4. **Adding dropout** - Zeroing out a number of output features of the layer during training, helps in minimizing overfitting as well. The dropout rate is the fraction of the features that are zeroed out.\n",
        "\n",
        "\n",
        "---\n",
        "\n",
        "\n"
      ]
    },
    {
      "cell_type": "markdown",
      "metadata": {
        "id": "LrPR3elMLJgF"
      },
      "source": [
        "#Q4. Repeat Steps 1-3, but now using a pretrained network. The sample sizes you use in Steps 2 and 3 for the pretrained network may be the same or different from those using the network where you trained from scratch. Again, use any and all optimization techniques to get best performance."
      ]
    },
    {
      "cell_type": "markdown",
      "metadata": {
        "id": "Mwki7ouMMs11"
      },
      "source": [
        "#### A highly effective approach to apply deep learning on small image datasets is to use a pretrained model. A pretrained model is a model that was previously trained on a large dataset, typically on a large-scale image-classification task.\n",
        "\n",
        "#### In this case, we will use a large convnet trained on the ImageNet dataset (1.4 million labeled images and 1,000 different classes). We will use VGG16 architecture, however, htere are multiple such architectures available namely VGG, ResNet, Inception, Xception, and so on.\n",
        "\n",
        "#### Many other image-classification models (all pretrained on the ImageNet dataset) are available as part of keras.applications:\n",
        "#### 1. Xception\n",
        "#### 2. ResNet\n",
        "#### 3. MobileNet\n",
        "#### 4. EfficientNet\n",
        "#### 5. DenseNet etc.\n"
      ]
    },
    {
      "cell_type": "markdown",
      "metadata": {
        "id": "j69jWRr_LJgF"
      },
      "source": [
        "### Feature extraction with a pretrained model\n",
        "\n",
        "#### Feature extraction means using the representations learned by a previously trained model (ImageNet, in our case) to extract interesting features from new samples. These features are then run through a new classifier, which is trained from scratch."
      ]
    },
    {
      "cell_type": "markdown",
      "metadata": {
        "id": "zz2pq2ajLJgG"
      },
      "source": [
        "**Instantiating the VGG16 convolutional base**"
      ]
    },
    {
      "cell_type": "code",
      "metadata": {
        "id": "skbTdg2GLJgG",
        "colab": {
          "base_uri": "https://localhost:8080/"
        },
        "outputId": "ca9f9529-66c6-439d-ae41-4991a26dca5f"
      },
      "source": [
        "conv_base = keras.applications.vgg16.VGG16(\n",
        "    weights=\"imagenet\",\n",
        "    include_top=False,\n",
        "    input_shape=(180, 180, 3))"
      ],
      "execution_count": 31,
      "outputs": [
        {
          "output_type": "stream",
          "name": "stdout",
          "text": [
            "Downloading data from https://storage.googleapis.com/tensorflow/keras-applications/vgg16/vgg16_weights_tf_dim_ordering_tf_kernels_notop.h5\n",
            "58892288/58889256 [==============================] - 1s 0us/step\n",
            "58900480/58889256 [==============================] - 1s 0us/step\n"
          ]
        }
      ]
    },
    {
      "cell_type": "code",
      "metadata": {
        "id": "pE4zRVz7LJgG",
        "colab": {
          "base_uri": "https://localhost:8080/"
        },
        "outputId": "a44167a5-346f-4fd1-9f7b-756f251c4b2a"
      },
      "source": [
        "conv_base.summary()"
      ],
      "execution_count": 32,
      "outputs": [
        {
          "output_type": "stream",
          "name": "stdout",
          "text": [
            "Model: \"vgg16\"\n",
            "_________________________________________________________________\n",
            " Layer (type)                Output Shape              Param #   \n",
            "=================================================================\n",
            " input_4 (InputLayer)        [(None, 180, 180, 3)]     0         \n",
            "                                                                 \n",
            " block1_conv1 (Conv2D)       (None, 180, 180, 64)      1792      \n",
            "                                                                 \n",
            " block1_conv2 (Conv2D)       (None, 180, 180, 64)      36928     \n",
            "                                                                 \n",
            " block1_pool (MaxPooling2D)  (None, 90, 90, 64)        0         \n",
            "                                                                 \n",
            " block2_conv1 (Conv2D)       (None, 90, 90, 128)       73856     \n",
            "                                                                 \n",
            " block2_conv2 (Conv2D)       (None, 90, 90, 128)       147584    \n",
            "                                                                 \n",
            " block2_pool (MaxPooling2D)  (None, 45, 45, 128)       0         \n",
            "                                                                 \n",
            " block3_conv1 (Conv2D)       (None, 45, 45, 256)       295168    \n",
            "                                                                 \n",
            " block3_conv2 (Conv2D)       (None, 45, 45, 256)       590080    \n",
            "                                                                 \n",
            " block3_conv3 (Conv2D)       (None, 45, 45, 256)       590080    \n",
            "                                                                 \n",
            " block3_pool (MaxPooling2D)  (None, 22, 22, 256)       0         \n",
            "                                                                 \n",
            " block4_conv1 (Conv2D)       (None, 22, 22, 512)       1180160   \n",
            "                                                                 \n",
            " block4_conv2 (Conv2D)       (None, 22, 22, 512)       2359808   \n",
            "                                                                 \n",
            " block4_conv3 (Conv2D)       (None, 22, 22, 512)       2359808   \n",
            "                                                                 \n",
            " block4_pool (MaxPooling2D)  (None, 11, 11, 512)       0         \n",
            "                                                                 \n",
            " block5_conv1 (Conv2D)       (None, 11, 11, 512)       2359808   \n",
            "                                                                 \n",
            " block5_conv2 (Conv2D)       (None, 11, 11, 512)       2359808   \n",
            "                                                                 \n",
            " block5_conv3 (Conv2D)       (None, 11, 11, 512)       2359808   \n",
            "                                                                 \n",
            " block5_pool (MaxPooling2D)  (None, 5, 5, 512)         0         \n",
            "                                                                 \n",
            "=================================================================\n",
            "Total params: 14,714,688\n",
            "Trainable params: 14,714,688\n",
            "Non-trainable params: 0\n",
            "_________________________________________________________________\n"
          ]
        }
      ]
    },
    {
      "cell_type": "markdown",
      "metadata": {
        "id": "SfdIeb-CLJgG"
      },
      "source": [
        "### Feature extraction without data augmentation using a pretrained model"
      ]
    },
    {
      "cell_type": "markdown",
      "metadata": {
        "id": "IuoRUabiLJgG"
      },
      "source": [
        "**Extracting the VGG16 features and corresponding labels**"
      ]
    },
    {
      "cell_type": "code",
      "metadata": {
        "id": "diN5BO8WLJgG"
      },
      "source": [
        "import numpy as np\n",
        "\n",
        "def get_features_and_labels(dataset):\n",
        "    all_features = []\n",
        "    all_labels = []\n",
        "    for images, labels in dataset:\n",
        "        preprocessed_images = keras.applications.vgg16.preprocess_input(images)\n",
        "        features = conv_base.predict(preprocessed_images)\n",
        "        all_features.append(features)\n",
        "        all_labels.append(labels)\n",
        "    return np.concatenate(all_features), np.concatenate(all_labels)\n",
        "\n",
        "train_features, train_labels =  get_features_and_labels(train_dataset)\n",
        "val_features, val_labels =  get_features_and_labels(validation_dataset)\n",
        "test_features, test_labels =  get_features_and_labels(test_dataset)"
      ],
      "execution_count": 33,
      "outputs": []
    },
    {
      "cell_type": "code",
      "metadata": {
        "id": "Sfa_c6LQLJgG",
        "colab": {
          "base_uri": "https://localhost:8080/"
        },
        "outputId": "00ab561b-43f3-4e43-f20a-5905afe37b06"
      },
      "source": [
        "train_features.shape"
      ],
      "execution_count": 34,
      "outputs": [
        {
          "output_type": "execute_result",
          "data": {
            "text/plain": [
              "(2000, 5, 5, 512)"
            ]
          },
          "metadata": {},
          "execution_count": 34
        }
      ]
    },
    {
      "cell_type": "markdown",
      "metadata": {
        "id": "3hK0qBZZLJgH"
      },
      "source": [
        "**Defining and training the densely connected classifier**"
      ]
    },
    {
      "cell_type": "code",
      "metadata": {
        "id": "taVrYpkcLJgH",
        "colab": {
          "base_uri": "https://localhost:8080/"
        },
        "outputId": "dfd084f1-93b8-4f30-8433-dc975386087b"
      },
      "source": [
        "inputs = keras.Input(shape=(5, 5, 512))\n",
        "x = layers.Flatten()(inputs)\n",
        "x = layers.Dense(256)(x)\n",
        "x = layers.Dropout(0.5)(x)\n",
        "outputs = layers.Dense(1, activation=\"sigmoid\")(x)\n",
        "model = keras.Model(inputs, outputs)\n",
        "model.compile(loss=\"binary_crossentropy\",\n",
        "              optimizer=\"rmsprop\",\n",
        "              metrics=[\"accuracy\"])\n",
        "\n",
        "callbacks = [\n",
        "    keras.callbacks.ModelCheckpoint(\n",
        "      filepath=\"feature_extraction.keras\",\n",
        "      save_best_only=True,\n",
        "      monitor=\"val_loss\")\n",
        "]\n",
        "history = model.fit(\n",
        "    train_features, train_labels,\n",
        "    epochs=20,\n",
        "    validation_data=(val_features, val_labels),\n",
        "    callbacks=callbacks)"
      ],
      "execution_count": 35,
      "outputs": [
        {
          "output_type": "stream",
          "name": "stdout",
          "text": [
            "Epoch 1/20\n",
            "63/63 [==============================] - 2s 13ms/step - loss: 13.3820 - accuracy: 0.9265 - val_loss: 4.4676 - val_accuracy: 0.9570\n",
            "Epoch 2/20\n",
            "63/63 [==============================] - 1s 9ms/step - loss: 2.3035 - accuracy: 0.9770 - val_loss: 3.8942 - val_accuracy: 0.9720\n",
            "Epoch 3/20\n",
            "63/63 [==============================] - 1s 9ms/step - loss: 2.3004 - accuracy: 0.9865 - val_loss: 7.7164 - val_accuracy: 0.9640\n",
            "Epoch 4/20\n",
            "63/63 [==============================] - 1s 9ms/step - loss: 1.8496 - accuracy: 0.9870 - val_loss: 5.7066 - val_accuracy: 0.9700\n",
            "Epoch 5/20\n",
            "63/63 [==============================] - 1s 9ms/step - loss: 1.2629 - accuracy: 0.9900 - val_loss: 6.7749 - val_accuracy: 0.9700\n",
            "Epoch 6/20\n",
            "63/63 [==============================] - 1s 9ms/step - loss: 0.4695 - accuracy: 0.9935 - val_loss: 5.9612 - val_accuracy: 0.9720\n",
            "Epoch 7/20\n",
            "63/63 [==============================] - 1s 8ms/step - loss: 0.5871 - accuracy: 0.9970 - val_loss: 11.5326 - val_accuracy: 0.9560\n",
            "Epoch 8/20\n",
            "63/63 [==============================] - 1s 10ms/step - loss: 0.5731 - accuracy: 0.9950 - val_loss: 4.3873 - val_accuracy: 0.9780\n",
            "Epoch 9/20\n",
            "63/63 [==============================] - 1s 10ms/step - loss: 4.6552e-14 - accuracy: 1.0000 - val_loss: 4.3873 - val_accuracy: 0.9780\n",
            "Epoch 10/20\n",
            "63/63 [==============================] - 1s 10ms/step - loss: 0.4821 - accuracy: 0.9965 - val_loss: 7.2185 - val_accuracy: 0.9710\n",
            "Epoch 11/20\n",
            "63/63 [==============================] - 1s 9ms/step - loss: 0.2615 - accuracy: 0.9965 - val_loss: 5.2307 - val_accuracy: 0.9750\n",
            "Epoch 12/20\n",
            "63/63 [==============================] - 1s 10ms/step - loss: 0.0795 - accuracy: 0.9980 - val_loss: 6.3846 - val_accuracy: 0.9720\n",
            "Epoch 13/20\n",
            "63/63 [==============================] - 1s 9ms/step - loss: 0.1641 - accuracy: 0.9990 - val_loss: 6.4884 - val_accuracy: 0.9690\n",
            "Epoch 14/20\n",
            "63/63 [==============================] - 1s 10ms/step - loss: 0.2360 - accuracy: 0.9990 - val_loss: 5.4121 - val_accuracy: 0.9730\n",
            "Epoch 15/20\n",
            "63/63 [==============================] - 1s 10ms/step - loss: 0.3773 - accuracy: 0.9970 - val_loss: 8.9569 - val_accuracy: 0.9680\n",
            "Epoch 16/20\n",
            "63/63 [==============================] - 1s 10ms/step - loss: 0.0817 - accuracy: 0.9985 - val_loss: 5.1000 - val_accuracy: 0.9750\n",
            "Epoch 17/20\n",
            "63/63 [==============================] - 1s 9ms/step - loss: 0.0920 - accuracy: 0.9985 - val_loss: 7.8232 - val_accuracy: 0.9690\n",
            "Epoch 18/20\n",
            "63/63 [==============================] - 1s 10ms/step - loss: 0.0621 - accuracy: 0.9995 - val_loss: 5.9730 - val_accuracy: 0.9740\n",
            "Epoch 19/20\n",
            "63/63 [==============================] - 1s 10ms/step - loss: 0.1014 - accuracy: 0.9980 - val_loss: 5.8946 - val_accuracy: 0.9770\n",
            "Epoch 20/20\n",
            "63/63 [==============================] - 1s 9ms/step - loss: 2.0946e-24 - accuracy: 1.0000 - val_loss: 5.8946 - val_accuracy: 0.9770\n"
          ]
        }
      ]
    },
    {
      "cell_type": "markdown",
      "metadata": {
        "id": "OIgzvXnHLJgH"
      },
      "source": [
        "**Plotting the results**"
      ]
    },
    {
      "cell_type": "code",
      "metadata": {
        "id": "8_s5AqAjLJgH",
        "colab": {
          "base_uri": "https://localhost:8080/",
          "height": 545
        },
        "outputId": "8cf52e81-ccf8-4233-d756-e29d6abab8bd"
      },
      "source": [
        "import matplotlib.pyplot as plt\n",
        "acc = history.history[\"accuracy\"]\n",
        "val_acc = history.history[\"val_accuracy\"]\n",
        "loss = history.history[\"loss\"]\n",
        "val_loss = history.history[\"val_loss\"]\n",
        "epochs = range(1, len(acc) + 1)\n",
        "plt.plot(epochs, acc, \"bo\", label=\"Training accuracy\")\n",
        "plt.plot(epochs, val_acc, \"b\", label=\"Validation accuracy\")\n",
        "plt.title(\"Training and validation accuracy\")\n",
        "plt.legend()\n",
        "plt.figure()\n",
        "plt.plot(epochs, loss, \"bo\", label=\"Training loss\")\n",
        "plt.plot(epochs, val_loss, \"b\", label=\"Validation loss\")\n",
        "plt.title(\"Training and validation loss\")\n",
        "plt.legend()\n",
        "plt.show()"
      ],
      "execution_count": 36,
      "outputs": [
        {
          "output_type": "display_data",
          "data": {
            "text/plain": [
              "<Figure size 432x288 with 1 Axes>"
            ],
            "image/png": "[encoded data removed]"
          },
          "metadata": {
            "needs_background": "light"
          }
        },
        {
          "output_type": "display_data",
          "data": {
            "text/plain": [
              "<Figure size 432x288 with 1 Axes>"
            ],
            "image/png": "[encoded data removed]"
          },
          "metadata": {
            "needs_background": "light"
          }
        }
      ]
    },
    {
      "cell_type": "markdown",
      "metadata": {
        "id": "0XzEsaqmLJgH"
      },
      "source": [
        "### Feature extraction with data augmentation using a pretrained model"
      ]
    },
    {
      "cell_type": "markdown",
      "metadata": {
        "id": "xbNGfHSmLJgH"
      },
      "source": [
        "**Instantiating and freezing the VGG16 convolutional base**"
      ]
    },
    {
      "cell_type": "code",
      "metadata": {
        "id": "4dQb9DQCLJgI"
      },
      "source": [
        "conv_base  = keras.applications.vgg16.VGG16(\n",
        "    weights=\"imagenet\",\n",
        "    include_top=False)\n",
        "conv_base.trainable = False"
      ],
      "execution_count": 37,
      "outputs": []
    },
    {
      "cell_type": "markdown",
      "metadata": {
        "id": "lo4EDoRLLJgI"
      },
      "source": [
        "**Printing the list of trainable weights before and after freezing**"
      ]
    },
    {
      "cell_type": "code",
      "metadata": {
        "id": "uXuWbLaXLJgI",
        "colab": {
          "base_uri": "https://localhost:8080/"
        },
        "outputId": "8b8953b5-c55b-4d7a-c992-2713cb58950a"
      },
      "source": [
        "conv_base.trainable = True\n",
        "print(\"This is the number of trainable weights \"\n",
        "      \"before freezing the conv base:\", len(conv_base.trainable_weights))"
      ],
      "execution_count": 38,
      "outputs": [
        {
          "output_type": "stream",
          "name": "stdout",
          "text": [
            "This is the number of trainable weights before freezing the conv base: 26\n"
          ]
        }
      ]
    },
    {
      "cell_type": "code",
      "metadata": {
        "id": "ymDWZ8j4LJgI",
        "colab": {
          "base_uri": "https://localhost:8080/"
        },
        "outputId": "2429017e-953c-47fa-ccd1-ba11e6389a51"
      },
      "source": [
        "conv_base.trainable = False\n",
        "print(\"This is the number of trainable weights \"\n",
        "      \"after freezing the conv base:\", len(conv_base.trainable_weights))"
      ],
      "execution_count": 39,
      "outputs": [
        {
          "output_type": "stream",
          "name": "stdout",
          "text": [
            "This is the number of trainable weights after freezing the conv base: 0\n"
          ]
        }
      ]
    },
    {
      "cell_type": "markdown",
      "metadata": {
        "id": "23uNfxn6LJgI"
      },
      "source": [
        "**Adding a data augmentation stage and a classifier to the convolutional base**"
      ]
    },
    {
      "cell_type": "code",
      "metadata": {
        "id": "VNgRDR0hLJgI"
      },
      "source": [
        "data_augmentation = keras.Sequential(\n",
        "    [\n",
        "        layers.RandomFlip(\"horizontal\"),\n",
        "        layers.RandomRotation(0.1),\n",
        "        layers.RandomZoom(0.2),\n",
        "    ]\n",
        ")\n",
        "\n",
        "inputs = keras.Input(shape=(180, 180, 3))\n",
        "x = data_augmentation(inputs)\n",
        "x = keras.applications.vgg16.preprocess_input(x)\n",
        "x = conv_base(x)\n",
        "x = layers.Flatten()(x)\n",
        "x = layers.Dense(256)(x)\n",
        "x = layers.Dropout(0.5)(x)\n",
        "outputs = layers.Dense(1, activation=\"sigmoid\")(x)\n",
        "model = keras.Model(inputs, outputs)\n",
        "model.compile(loss=\"binary_crossentropy\",\n",
        "              optimizer=\"rmsprop\",\n",
        "              metrics=[\"accuracy\"])"
      ],
      "execution_count": 40,
      "outputs": []
    },
    {
      "cell_type": "code",
      "metadata": {
        "id": "rktZ-i64LJgI",
        "colab": {
          "base_uri": "https://localhost:8080/"
        },
        "outputId": "5b84a6dd-7adf-4ec7-bdb3-d5ed37dad127"
      },
      "source": [
        "callbacks = [\n",
        "    keras.callbacks.ModelCheckpoint(\n",
        "        filepath=\"feature_extraction_with_data_augmentation.keras\",\n",
        "        save_best_only=True,\n",
        "        monitor=\"val_loss\")\n",
        "]\n",
        "history = model.fit(\n",
        "    train_dataset,\n",
        "    epochs=50,\n",
        "    validation_data=validation_dataset,\n",
        "    callbacks=callbacks)"
      ],
      "execution_count": 41,
      "outputs": [
        {
          "output_type": "stream",
          "name": "stdout",
          "text": [
            "Epoch 1/50\n",
            "63/63 [==============================] - 24s 356ms/step - loss: 16.0874 - accuracy: 0.9035 - val_loss: 11.6674 - val_accuracy: 0.9400\n",
            "Epoch 2/50\n",
            "63/63 [==============================] - 22s 348ms/step - loss: 7.2091 - accuracy: 0.9430 - val_loss: 4.0411 - val_accuracy: 0.9720\n",
            "Epoch 3/50\n",
            "63/63 [==============================] - 22s 349ms/step - loss: 5.0309 - accuracy: 0.9575 - val_loss: 3.4360 - val_accuracy: 0.9770\n",
            "Epoch 4/50\n",
            "63/63 [==============================] - 22s 344ms/step - loss: 6.8516 - accuracy: 0.9500 - val_loss: 4.2874 - val_accuracy: 0.9700\n",
            "Epoch 5/50\n",
            "63/63 [==============================] - 22s 347ms/step - loss: 3.2482 - accuracy: 0.9720 - val_loss: 3.2082 - val_accuracy: 0.9810\n",
            "Epoch 6/50\n",
            "63/63 [==============================] - 22s 343ms/step - loss: 3.3498 - accuracy: 0.9670 - val_loss: 4.6008 - val_accuracy: 0.9770\n",
            "Epoch 7/50\n",
            "63/63 [==============================] - 22s 344ms/step - loss: 4.3551 - accuracy: 0.9640 - val_loss: 4.6420 - val_accuracy: 0.9760\n",
            "Epoch 8/50\n",
            "63/63 [==============================] - 22s 344ms/step - loss: 3.0944 - accuracy: 0.9725 - val_loss: 3.5958 - val_accuracy: 0.9790\n",
            "Epoch 9/50\n",
            "63/63 [==============================] - 22s 347ms/step - loss: 2.8148 - accuracy: 0.9740 - val_loss: 3.0525 - val_accuracy: 0.9770\n",
            "Epoch 10/50\n",
            "63/63 [==============================] - 22s 344ms/step - loss: 3.2148 - accuracy: 0.9715 - val_loss: 3.6056 - val_accuracy: 0.9750\n",
            "Epoch 11/50\n",
            "63/63 [==============================] - 22s 344ms/step - loss: 2.5535 - accuracy: 0.9785 - val_loss: 4.3559 - val_accuracy: 0.9780\n",
            "Epoch 12/50\n",
            "63/63 [==============================] - 22s 344ms/step - loss: 1.9873 - accuracy: 0.9745 - val_loss: 4.3916 - val_accuracy: 0.9770\n",
            "Epoch 13/50\n",
            "63/63 [==============================] - 22s 343ms/step - loss: 1.8950 - accuracy: 0.9810 - val_loss: 3.9796 - val_accuracy: 0.9810\n",
            "Epoch 14/50\n",
            "63/63 [==============================] - 22s 345ms/step - loss: 1.8382 - accuracy: 0.9785 - val_loss: 3.5969 - val_accuracy: 0.9770\n",
            "Epoch 15/50\n",
            "63/63 [==============================] - 22s 343ms/step - loss: 2.1324 - accuracy: 0.9765 - val_loss: 4.1724 - val_accuracy: 0.9770\n",
            "Epoch 16/50\n",
            "63/63 [==============================] - 22s 348ms/step - loss: 1.2342 - accuracy: 0.9815 - val_loss: 2.6428 - val_accuracy: 0.9810\n",
            "Epoch 17/50\n",
            "63/63 [==============================] - 22s 345ms/step - loss: 1.3278 - accuracy: 0.9840 - val_loss: 3.4659 - val_accuracy: 0.9770\n",
            "Epoch 18/50\n",
            "63/63 [==============================] - 22s 345ms/step - loss: 1.1368 - accuracy: 0.9800 - val_loss: 3.3530 - val_accuracy: 0.9800\n",
            "Epoch 19/50\n",
            "63/63 [==============================] - 22s 345ms/step - loss: 1.5242 - accuracy: 0.9815 - val_loss: 2.9629 - val_accuracy: 0.9830\n",
            "Epoch 20/50\n",
            "63/63 [==============================] - 22s 349ms/step - loss: 1.3968 - accuracy: 0.9850 - val_loss: 2.4866 - val_accuracy: 0.9810\n",
            "Epoch 21/50\n",
            "63/63 [==============================] - 22s 349ms/step - loss: 0.8601 - accuracy: 0.9860 - val_loss: 2.4618 - val_accuracy: 0.9840\n",
            "Epoch 22/50\n",
            "63/63 [==============================] - 22s 344ms/step - loss: 1.1244 - accuracy: 0.9835 - val_loss: 2.8113 - val_accuracy: 0.9800\n",
            "Epoch 23/50\n",
            "63/63 [==============================] - 22s 348ms/step - loss: 0.8673 - accuracy: 0.9845 - val_loss: 2.2741 - val_accuracy: 0.9830\n",
            "Epoch 24/50\n",
            "63/63 [==============================] - 22s 348ms/step - loss: 0.9767 - accuracy: 0.9845 - val_loss: 1.9360 - val_accuracy: 0.9820\n",
            "Epoch 25/50\n",
            "63/63 [==============================] - 22s 343ms/step - loss: 0.8779 - accuracy: 0.9885 - val_loss: 2.1719 - val_accuracy: 0.9830\n",
            "Epoch 26/50\n",
            "63/63 [==============================] - 22s 344ms/step - loss: 1.1144 - accuracy: 0.9825 - val_loss: 2.4094 - val_accuracy: 0.9830\n",
            "Epoch 27/50\n",
            "63/63 [==============================] - 22s 348ms/step - loss: 1.1500 - accuracy: 0.9785 - val_loss: 1.8148 - val_accuracy: 0.9810\n",
            "Epoch 28/50\n",
            "63/63 [==============================] - 22s 344ms/step - loss: 1.2415 - accuracy: 0.9810 - val_loss: 1.9211 - val_accuracy: 0.9840\n",
            "Epoch 29/50\n",
            "63/63 [==============================] - 22s 344ms/step - loss: 1.2590 - accuracy: 0.9825 - val_loss: 2.5895 - val_accuracy: 0.9800\n",
            "Epoch 30/50\n",
            "63/63 [==============================] - 22s 344ms/step - loss: 1.1082 - accuracy: 0.9805 - val_loss: 2.1988 - val_accuracy: 0.9830\n",
            "Epoch 31/50\n",
            "63/63 [==============================] - 22s 345ms/step - loss: 1.1115 - accuracy: 0.9805 - val_loss: 2.0544 - val_accuracy: 0.9820\n",
            "Epoch 32/50\n",
            "63/63 [==============================] - 22s 343ms/step - loss: 0.5459 - accuracy: 0.9910 - val_loss: 2.0119 - val_accuracy: 0.9820\n",
            "Epoch 33/50\n",
            "63/63 [==============================] - 22s 343ms/step - loss: 0.6880 - accuracy: 0.9865 - val_loss: 1.9389 - val_accuracy: 0.9860\n",
            "Epoch 34/50\n",
            "63/63 [==============================] - 22s 344ms/step - loss: 0.3213 - accuracy: 0.9905 - val_loss: 1.8841 - val_accuracy: 0.9840\n",
            "Epoch 35/50\n",
            "63/63 [==============================] - 22s 344ms/step - loss: 0.8109 - accuracy: 0.9835 - val_loss: 1.9813 - val_accuracy: 0.9760\n",
            "Epoch 36/50\n",
            "63/63 [==============================] - 22s 344ms/step - loss: 0.6609 - accuracy: 0.9845 - val_loss: 3.4530 - val_accuracy: 0.9720\n",
            "Epoch 37/50\n",
            "63/63 [==============================] - 22s 344ms/step - loss: 0.7240 - accuracy: 0.9875 - val_loss: 2.0023 - val_accuracy: 0.9780\n",
            "Epoch 38/50\n",
            "63/63 [==============================] - 22s 345ms/step - loss: 0.6573 - accuracy: 0.9875 - val_loss: 2.2249 - val_accuracy: 0.9830\n",
            "Epoch 39/50\n",
            "63/63 [==============================] - 22s 344ms/step - loss: 0.5246 - accuracy: 0.9880 - val_loss: 2.1405 - val_accuracy: 0.9820\n",
            "Epoch 40/50\n",
            "63/63 [==============================] - 22s 343ms/step - loss: 0.4548 - accuracy: 0.9885 - val_loss: 2.0261 - val_accuracy: 0.9800\n",
            "Epoch 41/50\n",
            "63/63 [==============================] - 22s 344ms/step - loss: 0.6710 - accuracy: 0.9885 - val_loss: 2.0487 - val_accuracy: 0.9780\n",
            "Epoch 42/50\n",
            "63/63 [==============================] - 22s 345ms/step - loss: 0.6950 - accuracy: 0.9860 - val_loss: 2.6994 - val_accuracy: 0.9790\n",
            "Epoch 43/50\n",
            "63/63 [==============================] - 22s 345ms/step - loss: 0.3245 - accuracy: 0.9945 - val_loss: 2.5220 - val_accuracy: 0.9800\n",
            "Epoch 44/50\n",
            "63/63 [==============================] - 22s 344ms/step - loss: 0.9668 - accuracy: 0.9865 - val_loss: 2.1771 - val_accuracy: 0.9770\n",
            "Epoch 45/50\n",
            "63/63 [==============================] - 22s 345ms/step - loss: 0.2767 - accuracy: 0.9915 - val_loss: 2.7081 - val_accuracy: 0.9810\n",
            "Epoch 46/50\n",
            "63/63 [==============================] - 22s 349ms/step - loss: 0.6350 - accuracy: 0.9860 - val_loss: 1.6914 - val_accuracy: 0.9820\n",
            "Epoch 47/50\n",
            "63/63 [==============================] - 22s 344ms/step - loss: 0.6179 - accuracy: 0.9875 - val_loss: 2.1729 - val_accuracy: 0.9790\n",
            "Epoch 48/50\n",
            "63/63 [==============================] - 22s 344ms/step - loss: 0.5210 - accuracy: 0.9900 - val_loss: 2.0980 - val_accuracy: 0.9790\n",
            "Epoch 49/50\n",
            "63/63 [==============================] - 22s 343ms/step - loss: 0.6290 - accuracy: 0.9885 - val_loss: 1.9373 - val_accuracy: 0.9820\n",
            "Epoch 50/50\n",
            "63/63 [==============================] - 22s 344ms/step - loss: 0.3778 - accuracy: 0.9925 - val_loss: 1.8492 - val_accuracy: 0.9810\n"
          ]
        }
      ]
    },
    {
      "cell_type": "markdown",
      "metadata": {
        "id": "NZeVqDgrLJgJ"
      },
      "source": [
        "**Evaluating the model on the test set**"
      ]
    },
    {
      "cell_type": "code",
      "metadata": {
        "id": "1a7rXKp5LJgJ",
        "colab": {
          "base_uri": "https://localhost:8080/"
        },
        "outputId": "efc3fa8c-ac17-4bac-86d2-affe4ab84fc1"
      },
      "source": [
        "test_model = keras.models.load_model(\n",
        "    \"feature_extraction_with_data_augmentation.keras\")\n",
        "test_loss, test_acc = test_model.evaluate(test_dataset)\n",
        "print(f\"Test accuracy: {test_acc:.3f}\")"
      ],
      "execution_count": 42,
      "outputs": [
        {
          "output_type": "stream",
          "name": "stdout",
          "text": [
            "32/32 [==============================] - 8s 217ms/step - loss: 1.7598 - accuracy: 0.9780\n",
            "Test accuracy: 0.978\n"
          ]
        }
      ]
    },
    {
      "cell_type": "markdown",
      "metadata": {
        "id": "D51I3dJALJgJ"
      },
      "source": [
        "### A pretrained VGG16 model with Fine-tuning \n",
        "\n",
        "#### Fine-tuning consists of unfreezing a few of the top layers of a frozen model base used for feature extraction, and jointly training both the newly added part of the model (in this case, the fully connected classifier) and these top layers. This is called fine-tuning because it slightly adjusts the more abstract representations of the model being reused in order to make them more relevant for the problem at hand."
      ]
    },
    {
      "cell_type": "code",
      "metadata": {
        "id": "N0V2rv5RLJgJ",
        "colab": {
          "base_uri": "https://localhost:8080/"
        },
        "outputId": "3c7c342d-4b2a-44ac-8a0e-ab9e3420ed12"
      },
      "source": [
        "conv_base.summary()"
      ],
      "execution_count": 43,
      "outputs": [
        {
          "output_type": "stream",
          "name": "stdout",
          "text": [
            "Model: \"vgg16\"\n",
            "_________________________________________________________________\n",
            " Layer (type)                Output Shape              Param #   \n",
            "=================================================================\n",
            " input_6 (InputLayer)        [(None, None, None, 3)]   0         \n",
            "                                                                 \n",
            " block1_conv1 (Conv2D)       (None, None, None, 64)    1792      \n",
            "                                                                 \n",
            " block1_conv2 (Conv2D)       (None, None, None, 64)    36928     \n",
            "                                                                 \n",
            " block1_pool (MaxPooling2D)  (None, None, None, 64)    0         \n",
            "                                                                 \n",
            " block2_conv1 (Conv2D)       (None, None, None, 128)   73856     \n",
            "                                                                 \n",
            " block2_conv2 (Conv2D)       (None, None, None, 128)   147584    \n",
            "                                                                 \n",
            " block2_pool (MaxPooling2D)  (None, None, None, 128)   0         \n",
            "                                                                 \n",
            " block3_conv1 (Conv2D)       (None, None, None, 256)   295168    \n",
            "                                                                 \n",
            " block3_conv2 (Conv2D)       (None, None, None, 256)   590080    \n",
            "                                                                 \n",
            " block3_conv3 (Conv2D)       (None, None, None, 256)   590080    \n",
            "                                                                 \n",
            " block3_pool (MaxPooling2D)  (None, None, None, 256)   0         \n",
            "                                                                 \n",
            " block4_conv1 (Conv2D)       (None, None, None, 512)   1180160   \n",
            "                                                                 \n",
            " block4_conv2 (Conv2D)       (None, None, None, 512)   2359808   \n",
            "                                                                 \n",
            " block4_conv3 (Conv2D)       (None, None, None, 512)   2359808   \n",
            "                                                                 \n",
            " block4_pool (MaxPooling2D)  (None, None, None, 512)   0         \n",
            "                                                                 \n",
            " block5_conv1 (Conv2D)       (None, None, None, 512)   2359808   \n",
            "                                                                 \n",
            " block5_conv2 (Conv2D)       (None, None, None, 512)   2359808   \n",
            "                                                                 \n",
            " block5_conv3 (Conv2D)       (None, None, None, 512)   2359808   \n",
            "                                                                 \n",
            " block5_pool (MaxPooling2D)  (None, None, None, 512)   0         \n",
            "                                                                 \n",
            "=================================================================\n",
            "Total params: 14,714,688\n",
            "Trainable params: 0\n",
            "Non-trainable params: 14,714,688\n",
            "_________________________________________________________________\n"
          ]
        }
      ]
    },
    {
      "cell_type": "markdown",
      "metadata": {
        "id": "cUR7EUYmLJgJ"
      },
      "source": [
        "**Freezing all layers until the fourth from the last**"
      ]
    },
    {
      "cell_type": "code",
      "metadata": {
        "id": "9afcG21WLJgJ"
      },
      "source": [
        "conv_base.trainable = True\n",
        "for layer in conv_base.layers[:-4]:\n",
        "    layer.trainable = False"
      ],
      "execution_count": 44,
      "outputs": []
    },
    {
      "cell_type": "markdown",
      "metadata": {
        "id": "44SPsGOiLJgJ"
      },
      "source": [
        "**Fine-tuning the model**"
      ]
    },
    {
      "cell_type": "code",
      "metadata": {
        "id": "BNfNf5C6LJgJ",
        "colab": {
          "base_uri": "https://localhost:8080/"
        },
        "outputId": "59c2df87-52e8-4221-a324-8753112e946b"
      },
      "source": [
        "model.compile(loss=\"binary_crossentropy\",\n",
        "              optimizer=keras.optimizers.RMSprop(learning_rate=1e-5),\n",
        "              metrics=[\"accuracy\"])\n",
        "\n",
        "callbacks = [\n",
        "    keras.callbacks.ModelCheckpoint(\n",
        "        filepath=\"fine_tuning.keras\",\n",
        "        save_best_only=True,\n",
        "        monitor=\"val_loss\")\n",
        "]\n",
        "history = model.fit(\n",
        "    train_dataset,\n",
        "    epochs=30,\n",
        "    validation_data=validation_dataset,\n",
        "    callbacks=callbacks)"
      ],
      "execution_count": 45,
      "outputs": [
        {
          "output_type": "stream",
          "name": "stdout",
          "text": [
            "Epoch 1/30\n",
            "63/63 [==============================] - 26s 381ms/step - loss: 0.6772 - accuracy: 0.9875 - val_loss: 2.6438 - val_accuracy: 0.9720\n",
            "Epoch 2/30\n",
            "63/63 [==============================] - 24s 377ms/step - loss: 0.3880 - accuracy: 0.9920 - val_loss: 2.6176 - val_accuracy: 0.9720\n",
            "Epoch 3/30\n",
            "63/63 [==============================] - 24s 377ms/step - loss: 0.4096 - accuracy: 0.9910 - val_loss: 1.7350 - val_accuracy: 0.9760\n",
            "Epoch 4/30\n",
            "63/63 [==============================] - 24s 371ms/step - loss: 0.2944 - accuracy: 0.9930 - val_loss: 1.7848 - val_accuracy: 0.9780\n",
            "Epoch 5/30\n",
            "63/63 [==============================] - 24s 375ms/step - loss: 0.2629 - accuracy: 0.9925 - val_loss: 1.5662 - val_accuracy: 0.9800\n",
            "Epoch 6/30\n",
            "63/63 [==============================] - 24s 372ms/step - loss: 0.1948 - accuracy: 0.9955 - val_loss: 1.7448 - val_accuracy: 0.9820\n",
            "Epoch 7/30\n",
            "63/63 [==============================] - 24s 376ms/step - loss: 0.2114 - accuracy: 0.9945 - val_loss: 1.5168 - val_accuracy: 0.9830\n",
            "Epoch 8/30\n",
            "63/63 [==============================] - 24s 372ms/step - loss: 0.2470 - accuracy: 0.9940 - val_loss: 1.7589 - val_accuracy: 0.9800\n",
            "Epoch 9/30\n",
            "63/63 [==============================] - 24s 372ms/step - loss: 0.2352 - accuracy: 0.9950 - val_loss: 1.6773 - val_accuracy: 0.9830\n",
            "Epoch 10/30\n",
            "63/63 [==============================] - 24s 372ms/step - loss: 0.2560 - accuracy: 0.9940 - val_loss: 1.8381 - val_accuracy: 0.9800\n",
            "Epoch 11/30\n",
            "63/63 [==============================] - 24s 371ms/step - loss: 0.1361 - accuracy: 0.9955 - val_loss: 1.6530 - val_accuracy: 0.9800\n",
            "Epoch 12/30\n",
            "63/63 [==============================] - 24s 371ms/step - loss: 0.2997 - accuracy: 0.9915 - val_loss: 1.8386 - val_accuracy: 0.9790\n",
            "Epoch 13/30\n",
            "63/63 [==============================] - 24s 371ms/step - loss: 0.3186 - accuracy: 0.9910 - val_loss: 1.8490 - val_accuracy: 0.9830\n",
            "Epoch 14/30\n",
            "63/63 [==============================] - 24s 372ms/step - loss: 0.1981 - accuracy: 0.9940 - val_loss: 1.8013 - val_accuracy: 0.9800\n",
            "Epoch 15/30\n",
            "63/63 [==============================] - 24s 371ms/step - loss: 0.2204 - accuracy: 0.9950 - val_loss: 1.6354 - val_accuracy: 0.9820\n",
            "Epoch 16/30\n",
            "63/63 [==============================] - 24s 370ms/step - loss: 0.1380 - accuracy: 0.9975 - val_loss: 1.8117 - val_accuracy: 0.9770\n",
            "Epoch 17/30\n",
            "63/63 [==============================] - 24s 371ms/step - loss: 0.3199 - accuracy: 0.9940 - val_loss: 1.6009 - val_accuracy: 0.9830\n",
            "Epoch 18/30\n",
            "63/63 [==============================] - 24s 370ms/step - loss: 0.1235 - accuracy: 0.9945 - val_loss: 1.5771 - val_accuracy: 0.9820\n",
            "Epoch 19/30\n",
            "63/63 [==============================] - 24s 371ms/step - loss: 0.2311 - accuracy: 0.9940 - val_loss: 1.6454 - val_accuracy: 0.9810\n",
            "Epoch 20/30\n",
            "63/63 [==============================] - 24s 377ms/step - loss: 0.2474 - accuracy: 0.9945 - val_loss: 1.4513 - val_accuracy: 0.9840\n",
            "Epoch 21/30\n",
            "63/63 [==============================] - 24s 372ms/step - loss: 0.1268 - accuracy: 0.9970 - val_loss: 1.5091 - val_accuracy: 0.9820\n",
            "Epoch 22/30\n",
            "63/63 [==============================] - 24s 370ms/step - loss: 0.2010 - accuracy: 0.9945 - val_loss: 1.4706 - val_accuracy: 0.9830\n",
            "Epoch 23/30\n",
            "63/63 [==============================] - 24s 377ms/step - loss: 0.1826 - accuracy: 0.9920 - val_loss: 1.3966 - val_accuracy: 0.9830\n",
            "Epoch 24/30\n",
            "63/63 [==============================] - 24s 371ms/step - loss: 0.0671 - accuracy: 0.9980 - val_loss: 1.4074 - val_accuracy: 0.9830\n",
            "Epoch 25/30\n",
            "63/63 [==============================] - 24s 370ms/step - loss: 0.0956 - accuracy: 0.9965 - val_loss: 1.4790 - val_accuracy: 0.9820\n",
            "Epoch 26/30\n",
            "63/63 [==============================] - 24s 376ms/step - loss: 0.0977 - accuracy: 0.9950 - val_loss: 1.3850 - val_accuracy: 0.9840\n",
            "Epoch 27/30\n",
            "63/63 [==============================] - 24s 371ms/step - loss: 0.1300 - accuracy: 0.9955 - val_loss: 1.5240 - val_accuracy: 0.9830\n",
            "Epoch 28/30\n",
            "63/63 [==============================] - 24s 371ms/step - loss: 0.0714 - accuracy: 0.9975 - val_loss: 1.6004 - val_accuracy: 0.9830\n",
            "Epoch 29/30\n",
            "63/63 [==============================] - 23s 369ms/step - loss: 0.1265 - accuracy: 0.9950 - val_loss: 1.5773 - val_accuracy: 0.9800\n",
            "Epoch 30/30\n",
            "63/63 [==============================] - 24s 371ms/step - loss: 0.2491 - accuracy: 0.9930 - val_loss: 1.6035 - val_accuracy: 0.9840\n"
          ]
        }
      ]
    },
    {
      "cell_type": "code",
      "metadata": {
        "id": "QTO5M9XHLJgK",
        "colab": {
          "base_uri": "https://localhost:8080/",
          "height": 200
        },
        "outputId": "d5acab3a-0a65-4e61-9848-9347d30473bf"
      },
      "source": [
        "model = keras.models.load_model(\"fine_tuning.keras\")\n",
        "test_loss, test_acc = model.evaluate(test_dataset)\n",
        "print(f\"Test accuracy: {test_acc:.3f}\")"
      ],
      "execution_count": 1,
      "outputs": [
        {
          "output_type": "error",
          "ename": "NameError",
          "evalue": "ignored",
          "traceback": [
            "\u001b[0;31m---------------------------------------------------------------------------\u001b[0m",
            "\u001b[0;31mNameError\u001b[0m                                 Traceback (most recent call last)",
            "\u001b[0;32m<ipython-input-1-75ac276b6abe>\u001b[0m in \u001b[0;36m<module>\u001b[0;34m()\u001b[0m\n\u001b[0;32m----> 1\u001b[0;31m \u001b[0mmodel\u001b[0m \u001b[0;34m=\u001b[0m \u001b[0mkeras\u001b[0m\u001b[0;34m.\u001b[0m\u001b[0mmodels\u001b[0m\u001b[0;34m.\u001b[0m\u001b[0mload_model\u001b[0m\u001b[0;34m(\u001b[0m\u001b[0;34m\"fine_tuning.keras\"\u001b[0m\u001b[0;34m)\u001b[0m\u001b[0;34m\u001b[0m\u001b[0;34m\u001b[0m\u001b[0m\n\u001b[0m\u001b[1;32m      2\u001b[0m \u001b[0mtest_loss\u001b[0m\u001b[0;34m,\u001b[0m \u001b[0mtest_acc\u001b[0m \u001b[0;34m=\u001b[0m \u001b[0mmodel\u001b[0m\u001b[0;34m.\u001b[0m\u001b[0mevaluate\u001b[0m\u001b[0;34m(\u001b[0m\u001b[0mtest_dataset\u001b[0m\u001b[0;34m)\u001b[0m\u001b[0;34m\u001b[0m\u001b[0;34m\u001b[0m\u001b[0m\n\u001b[1;32m      3\u001b[0m \u001b[0mprint\u001b[0m\u001b[0;34m(\u001b[0m\u001b[0;34mf\"Test accuracy: {test_acc:.3f}\"\u001b[0m\u001b[0;34m)\u001b[0m\u001b[0;34m\u001b[0m\u001b[0;34m\u001b[0m\u001b[0m\n",
            "\u001b[0;31mNameError\u001b[0m: name 'keras' is not defined"
          ]
        }
      ]
    },
    {
      "cell_type": "markdown",
      "metadata": {
        "id": "47PdlIiBTRnO"
      },
      "source": [
        "## Summary\n",
        "\n",
        "### Using a Pre-trained model without Augmentation\n",
        "\n",
        "#### We reach a validation accuracy of about 97.70% which is better than what we achieved while training the small model from scratch. This won’t always be the case when you use pretrained features.\n",
        "#### However, the plots also indicate that we’re overfitting almost from the start—despite using dropout with a fairly large rate. That’s because this technique doesn’t use data augmentation, which is essential for preventing overfitting with small image datasets.\n",
        "\n",
        "### Using a Pre-trained model without Augmentation\n",
        "\n",
        "#### A model’s accuracy always depends on the set of samples one evaluates it on! Some sample sets may be more difficult than others, and strong results on one set won’t necessarily fully translate to all other sets. because of this reason, Pretrained model With Augmentation, there was just a minor increase in the accuracy from 97.70% to 98.10%.\n",
        "\n",
        "### Using Pretrained model with fine tuning\n",
        "#### Here, we get a test accuracy of 98.0%\n",
        "\n",
        "### These accuracy results might change within one percentage range of point."
      ]
    }
  ]
}